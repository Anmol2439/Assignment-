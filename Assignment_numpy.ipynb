{
  "nbformat": 4,
  "nbformat_minor": 0,
  "metadata": {
    "colab": {
      "provenance": []
    },
    "kernelspec": {
      "name": "python3",
      "display_name": "Python 3"
    },
    "language_info": {
      "name": "python"
    }
  },
  "cells": [
    {
      "cell_type": "code",
      "execution_count": 8,
      "metadata": {
        "colab": {
          "base_uri": "https://localhost:8080/"
        },
        "id": "rKRwi3KIDZlb",
        "outputId": "84bd6bc9-9df9-4bbb-8e3d-68fb4dc82e98"
      },
      "outputs": [
        {
          "output_type": "stream",
          "name": "stdout",
          "text": [
            "Original Array:\n",
            "[[19 94 58]\n",
            " [69 71 93]\n",
            " [21 10 18]]\n",
            "\n",
            "Transposed Array:\n",
            "[[19 69 21]\n",
            " [94 71 10]\n",
            " [58 93 18]]\n",
            "Original Array:\n",
            "[[ 1  8 97]\n",
            " [66 68 56]\n",
            " [41 49 67]]\n",
            "\n",
            "Transposed Array:\n",
            "[[ 1 66 41]\n",
            " [ 8 68 49]\n",
            " [97 56 67]]\n"
          ]
        }
      ],
      "source": [
        "\n",
        "#Q1\n",
        "#1. Create a 3x3 NumPy array with random integers between 1 and 100. Then, interchange its rows and columns.\n",
        "import numpy as np\n",
        "\n",
        "# Create a 3x3 array with random integers between 1 and 100\n",
        "array = np.random.randint(1, 101, size=(3, 3))\n",
        "\n",
        "# Interchange its rows and columns (transpose the array)\n",
        "transposed_array = np.transpose(array)\n",
        "\n",
        "# Output the original and transposed arrays\n",
        "print(\"Original Array:\")\n",
        "print(array)\n",
        "\n",
        "print(\"\\nTransposed Array:\")\n",
        "print(transposed_array)\n",
        "\n",
        "# Create a 3x3 array with random integers between 1 and 100\n",
        "array = np.random.randint(1, 101, size=(3, 3))\n",
        "\n",
        "# Interchange its rows and columns (transpose the array)\n",
        "transposed_array = np.transpose(array)\n",
        "\n",
        "# Output the original and transposed arrays\n",
        "print(\"Original Array:\")\n",
        "print(array)\n",
        "\n",
        "print(\"\\nTransposed Array:\")\n",
        "print(transposed_array)"
      ]
    },
    {
      "cell_type": "code",
      "source": [
        "#Q2\n",
        "import numpy as np\n",
        "\n",
        "# Generate a 1D array with 10 elements (IDs)\n",
        "array = np.arange(1, 11)\n",
        "\n",
        "# Reshape into a 2x5 array\n",
        "reshaped_2x5 = array.reshape(2, 5)\n",
        "\n",
        "# Reshape into a 5x2 array\n",
        "reshaped_5x2 = array.reshape(5, 2)\n",
        "\n",
        "# Output the arrays\n",
        "print(\"Original 1D Array:\")\n",
        "print(array)\n",
        "\n",
        "print(\"\\nReshaped 2x5 Array:\")\n",
        "print(reshaped_2x5)\n",
        "\n",
        "print(\"\\nReshaped 5x2 Array:\")\n",
        "print(reshaped_5x2)\n",
        "\n"
      ],
      "metadata": {
        "colab": {
          "base_uri": "https://localhost:8080/"
        },
        "id": "7spSefvYDf9k",
        "outputId": "91301b10-4f4e-4835-8171-dc09cee95aaf"
      },
      "execution_count": 9,
      "outputs": [
        {
          "output_type": "stream",
          "name": "stdout",
          "text": [
            "Original 1D Array:\n",
            "[ 1  2  3  4  5  6  7  8  9 10]\n",
            "\n",
            "Reshaped 2x5 Array:\n",
            "[[ 1  2  3  4  5]\n",
            " [ 6  7  8  9 10]]\n",
            "\n",
            "Reshaped 5x2 Array:\n",
            "[[ 1  2]\n",
            " [ 3  4]\n",
            " [ 5  6]\n",
            " [ 7  8]\n",
            " [ 9 10]]\n"
          ]
        }
      ]
    },
    {
      "cell_type": "code",
      "source": [
        "#Q3Create a 4x4 NumPy array with random float values. Add a border of zeros around it, resulting in a 6x6 array.\n",
        "import numpy as np\n",
        "\n",
        "# Create a 4x4 array with random float values\n",
        "array_4x4 = np.random.rand(4, 4)\n",
        "\n",
        "# Add a border of zeros around it to make a 6x6 array\n",
        "array_6x6 = np.pad(array_4x4, pad_width=1, mode='constant', constant_values=0)\n",
        "\n",
        "# Output the arrays\n",
        "print(\"Original 4x4 Array:\")\n",
        "print(array_4x4)\n",
        "\n",
        "print(\"\\nArray with Zero Border (6x6):\")\n",
        "print(array_6x6)"
      ],
      "metadata": {
        "colab": {
          "base_uri": "https://localhost:8080/"
        },
        "id": "NVuFJPsLEJRi",
        "outputId": "c190c90f-3810-4981-cfaa-98e6f2fa6ef2"
      },
      "execution_count": 10,
      "outputs": [
        {
          "output_type": "stream",
          "name": "stdout",
          "text": [
            "Original 4x4 Array:\n",
            "[[0.17610523 0.92645034 0.54619851 0.17553132]\n",
            " [0.94462103 0.37515826 0.16909658 0.30578217]\n",
            " [0.57158261 0.43240382 0.27318305 0.27536019]\n",
            " [0.3568372  0.54414051 0.65838116 0.80224408]]\n",
            "\n",
            "Array with Zero Border (6x6):\n",
            "[[0.         0.         0.         0.         0.         0.        ]\n",
            " [0.         0.17610523 0.92645034 0.54619851 0.17553132 0.        ]\n",
            " [0.         0.94462103 0.37515826 0.16909658 0.30578217 0.        ]\n",
            " [0.         0.57158261 0.43240382 0.27318305 0.27536019 0.        ]\n",
            " [0.         0.3568372  0.54414051 0.65838116 0.80224408 0.        ]\n",
            " [0.         0.         0.         0.         0.         0.        ]]\n"
          ]
        }
      ]
    },
    {
      "cell_type": "code",
      "source": [
        "#Q4 Using NumPy, create an array of integers from 10 to 60 with a step of 5.\n",
        "import numpy as np\n",
        "\n",
        "# Create an array of integers from 10 to 60 with a step of 5\n",
        "array = np.arange(10, 61, 5)\n",
        "\n",
        "# Output the array\n",
        "print(\"Array of integers from 10 to 60 with a step of 5:\")\n",
        "print(array)"
      ],
      "metadata": {
        "colab": {
          "base_uri": "https://localhost:8080/"
        },
        "id": "5w48JDOrENF9",
        "outputId": "51359200-36bb-4e71-9840-42c2c0c857fe"
      },
      "execution_count": 11,
      "outputs": [
        {
          "output_type": "stream",
          "name": "stdout",
          "text": [
            "Array of integers from 10 to 60 with a step of 5:\n",
            "[10 15 20 25 30 35 40 45 50 55 60]\n"
          ]
        }
      ]
    },
    {
      "cell_type": "code",
      "source": [
        "#Q5Create a NumPy array of strings ['python', 'numpy', 'pandas'].\n",
        "#Apply different case transformations (uppercase, lowercase, title case, etc.) to each element.\n",
        "import numpy as np\n",
        "\n",
        "# Create a NumPy array of strings\n",
        "array = np.array(['python', 'numpy', 'pandas'])\n",
        "\n",
        "# Apply different case transformations\n",
        "uppercase_array = np.char.upper(array)\n",
        "lowercase_array = np.char.lower(array)\n",
        "titlecase_array = np.char.title(array)\n",
        "\n",
        "# Output the transformed arrays\n",
        "print(\"Original Array:\")\n",
        "print(array)\n",
        "\n",
        "print(\"\\nUppercase Array:\")\n",
        "print(uppercase_array)\n",
        "\n",
        "print(\"\\nLowercase Array:\")\n",
        "print(lowercase_array)\n",
        "\n",
        "print(\"\\nTitle Case Array:\")\n",
        "print(titlecase_array)"
      ],
      "metadata": {
        "colab": {
          "base_uri": "https://localhost:8080/"
        },
        "id": "qoWqd6phESGr",
        "outputId": "56c65589-df66-488a-cd67-9df6c539b322"
      },
      "execution_count": 12,
      "outputs": [
        {
          "output_type": "stream",
          "name": "stdout",
          "text": [
            "Original Array:\n",
            "['python' 'numpy' 'pandas']\n",
            "\n",
            "Uppercase Array:\n",
            "['PYTHON' 'NUMPY' 'PANDAS']\n",
            "\n",
            "Lowercase Array:\n",
            "['python' 'numpy' 'pandas']\n",
            "\n",
            "Title Case Array:\n",
            "['Python' 'Numpy' 'Pandas']\n"
          ]
        }
      ]
    },
    {
      "cell_type": "code",
      "source": [],
      "metadata": {
        "id": "29sArEFLEY21"
      },
      "execution_count": null,
      "outputs": []
    },
    {
      "cell_type": "code",
      "source": [
        "#Q6Generate a NumPy array of words. Insert a space between each character of every word in the array.\n",
        "import numpy as np\n",
        "\n",
        "# Create a NumPy array of words\n",
        "array = np.array(['python', 'numpy', 'pandas'])\n",
        "\n",
        "# Insert a space between each character of every word\n",
        "spaced_array = np.char.join(' ', array)\n",
        "\n",
        "# Output the original and spaced arrays\n",
        "print(\"Original Array:\")\n",
        "print(array)\n",
        "\n",
        "print(\"\\nArray with Spaces Between Characters:\")\n",
        "print(spaced_array)"
      ],
      "metadata": {
        "colab": {
          "base_uri": "https://localhost:8080/"
        },
        "id": "JOXzyndYEZjD",
        "outputId": "c3f0d64b-5cb8-4f0d-e708-5df9896eed39"
      },
      "execution_count": 13,
      "outputs": [
        {
          "output_type": "stream",
          "name": "stdout",
          "text": [
            "Original Array:\n",
            "['python' 'numpy' 'pandas']\n",
            "\n",
            "Array with Spaces Between Characters:\n",
            "['p y t h o n' 'n u m p y' 'p a n d a s']\n"
          ]
        }
      ]
    },
    {
      "cell_type": "code",
      "source": [
        "#Q7Create two 2D NumPy arrays and perform element-wise addition, subtraction, multiplication, and division.\n",
        "import numpy as np\n",
        "\n",
        "# Create two 2D NumPy arrays\n",
        "array1 = np.array([[1, 2, 3], [4, 5, 6]])\n",
        "array2 = np.array([[7, 8, 9], [10, 11, 12]])\n",
        "\n",
        "# Perform element-wise operations\n",
        "addition = np.add(array1, array2)\n",
        "subtraction = np.subtract(array1, array2)\n",
        "multiplication = np.multiply(array1, array2)\n",
        "division = np.divide(array1, array2)\n",
        "\n",
        "# Output the results\n",
        "print(\"Array 1:\")\n",
        "print(array1)\n",
        "\n",
        "print(\"\\nArray 2:\")\n",
        "print(array2)\n",
        "\n",
        "print(\"\\nElement-wise Addition:\")\n",
        "print(addition)\n",
        "\n",
        "print(\"\\nElement-wise Subtraction:\")\n",
        "print(subtraction)\n",
        "\n",
        "print(\"\\nElement-wise Multiplication:\")\n",
        "print(multiplication)\n",
        "\n",
        "print(\"\\nElement-wise Division:\")\n",
        "print(division)"
      ],
      "metadata": {
        "colab": {
          "base_uri": "https://localhost:8080/"
        },
        "id": "AKsXUwt9EdLN",
        "outputId": "14bda1fa-0fdf-40e3-a96d-6a776f0fdc3f"
      },
      "execution_count": 14,
      "outputs": [
        {
          "output_type": "stream",
          "name": "stdout",
          "text": [
            "Array 1:\n",
            "[[1 2 3]\n",
            " [4 5 6]]\n",
            "\n",
            "Array 2:\n",
            "[[ 7  8  9]\n",
            " [10 11 12]]\n",
            "\n",
            "Element-wise Addition:\n",
            "[[ 8 10 12]\n",
            " [14 16 18]]\n",
            "\n",
            "Element-wise Subtraction:\n",
            "[[-6 -6 -6]\n",
            " [-6 -6 -6]]\n",
            "\n",
            "Element-wise Multiplication:\n",
            "[[ 7 16 27]\n",
            " [40 55 72]]\n",
            "\n",
            "Element-wise Division:\n",
            "[[0.14285714 0.25       0.33333333]\n",
            " [0.4        0.45454545 0.5       ]]\n"
          ]
        }
      ]
    },
    {
      "cell_type": "code",
      "source": [
        "#Q8Use NumPy to create a 5x5 identity matrix, then extract its diagonal elements.\n",
        "import numpy as np\n",
        "\n",
        "# Create a 5x5 identity matrix\n",
        "identity_matrix = np.eye(5)\n",
        "\n",
        "# Extract the diagonal elements\n",
        "diagonal_elements = np.diag(identity_matrix)\n",
        "\n",
        "# Output the identity matrix and diagonal elements\n",
        "print(\"5x5 Identity Matrix:\")\n",
        "print(identity_matrix)\n",
        "\n",
        "print(\"\\nDiagonal Elements:\")\n",
        "print(diagonal_elements)\n",
        "\n",
        ""
      ],
      "metadata": {
        "colab": {
          "base_uri": "https://localhost:8080/"
        },
        "id": "M2OIkb5wEh-L",
        "outputId": "4c4a630e-9096-4bda-c1c1-ade83a7a43c0"
      },
      "execution_count": 15,
      "outputs": [
        {
          "output_type": "stream",
          "name": "stdout",
          "text": [
            "5x5 Identity Matrix:\n",
            "[[1. 0. 0. 0. 0.]\n",
            " [0. 1. 0. 0. 0.]\n",
            " [0. 0. 1. 0. 0.]\n",
            " [0. 0. 0. 1. 0.]\n",
            " [0. 0. 0. 0. 1.]]\n",
            "\n",
            "Diagonal Elements:\n",
            "[1. 1. 1. 1. 1.]\n"
          ]
        }
      ]
    },
    {
      "cell_type": "code",
      "source": [
        "#Q9 Generate a NumPy array of 100 random integers between 0 and 1000. Find and display all prime numbers in this array.\n",
        "import numpy as np\n",
        "\n",
        "# Generate a NumPy array of 100 random integers between 0 and 1000\n",
        "random_integers = np.random.randint(0, 1001, size=100)\n",
        "\n",
        "# Function to check if a number is prime\n",
        "def is_prime(n):\n",
        "    if n < 2:\n",
        "        return False\n",
        "    for i in range(2, int(n**0.5) + 1):\n",
        "        if n % i == 0:\n",
        "            return False\n",
        "    return True\n",
        "\n",
        "# Find all prime numbers in the array\n",
        "prime_numbers = np.array([num for num in random_integers if is_prime(num)])\n",
        "\n",
        "# Output the array of random integers and the prime numbers found\n",
        "print(\"Random Integers:\")\n",
        "print(random_integers)\n",
        "\n",
        "print(\"\\nPrime Numbers in the Array:\")\n",
        "print(prime_numbers)"
      ],
      "metadata": {
        "colab": {
          "base_uri": "https://localhost:8080/"
        },
        "id": "k4lcfp93Ep_3",
        "outputId": "b4886159-22f5-4667-9aee-1ebc20aa3a27"
      },
      "execution_count": 16,
      "outputs": [
        {
          "output_type": "stream",
          "name": "stdout",
          "text": [
            "Random Integers:\n",
            "[923 567 518 809 737 639 475 213  18 213 699 663 122 376 759 677 254 666\n",
            "   6 123 224 593  78 387 721 586 255  63 711 199 961 292 717 153 695 751\n",
            " 242 586 290 453 659 519 231 570 496 128 289 704 802 232 342 531 363  14\n",
            " 922 555 950 408 249 571 809 727 377 415 580 686 550 514 200 771 506 952\n",
            "  67  96 853 997 872 122 815 755 880 726 368 286 657 314 817 400 357 261\n",
            " 201 937 390 421  72 245 475 205 878 131]\n",
            "\n",
            "Prime Numbers in the Array:\n",
            "[809 677 593 199 751 659 571 809 727  67 853 997 937 421 131]\n"
          ]
        }
      ]
    },
    {
      "cell_type": "code",
      "source": [
        "#Q10Create a NumPy array representing daily temperatures for a month. Calculate and display the weekly averages\n",
        "import numpy as np\n",
        "\n",
        "# Create a NumPy array representing daily temperatures for a month (30 days)\n",
        "# For simplicity, let's use random temperatures between 15 and 35 degrees Celsius\n",
        "np.random.seed(0)  # For reproducibility\n",
        "daily_temperatures = np.random.randint(15, 36, size=30)\n",
        "\n",
        "# Calculate weekly averages\n",
        "# There are 4 full weeks in 30 days (28 days) and 2 extra days\n",
        "weekly_averages = [daily_temperatures[i:i+7].mean() for i in range(0, 28, 7)]\n",
        "\n",
        "# Add the average for the last incomplete week (last 2 days)\n",
        "last_week_avg = daily_temperatures[28:].mean()\n",
        "weekly_averages.append(last_week_avg)\n",
        "\n",
        "# Display the results\n",
        "print(\"Daily Temperatures for the Month (30 Days):\")\n",
        "print(daily_temperatures)\n",
        "print(\"\\nWeekly Averages:\")\n",
        "for week_num, avg in enumerate(weekly_averages, start=1):\n",
        "    print(f\"Week {week_num}: {avg:.2f}°C\")"
      ],
      "metadata": {
        "colab": {
          "base_uri": "https://localhost:8080/"
        },
        "id": "_UBy1H4lEujD",
        "outputId": "8d439e7c-cb40-4873-a3c2-517c13369059"
      },
      "execution_count": 17,
      "outputs": [
        {
          "output_type": "stream",
          "name": "stdout",
          "text": [
            "Daily Temperatures for the Month (30 Days):\n",
            "[27 30 15 18 18 22 24 34 33 19 21 27 16 21 22 29 32 20 28 23 24 35 34 31\n",
            " 34 20 30 30 15 33]\n",
            "\n",
            "Weekly Averages:\n",
            "Week 1: 22.00°C\n",
            "Week 2: 24.43°C\n",
            "Week 3: 25.43°C\n",
            "Week 4: 30.57°C\n",
            "Week 5: 24.00°C\n"
          ]
        }
      ]
    },
    {
      "cell_type": "code",
      "source": [],
      "metadata": {
        "id": "nBEJYgz1E0I5"
      },
      "execution_count": null,
      "outputs": []
    }
  ]
}