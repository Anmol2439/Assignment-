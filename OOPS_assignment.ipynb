{
  "nbformat": 4,
  "nbformat_minor": 0,
  "metadata": {
    "colab": {
      "provenance": []
    },
    "kernelspec": {
      "name": "python3",
      "display_name": "Python 3"
    },
    "language_info": {
      "name": "python"
    }
  },
  "cells": [
    {
      "cell_type": "code",
      "execution_count": null,
      "metadata": {
        "id": "U51J6AIqDUG8"
      },
      "outputs": [],
      "source": []
    },
    {
      "cell_type": "markdown",
      "source": [
        "1.What are the five key concepts of Object-Oriented Programming (OOP)?\n",
        "# ans:\n",
        "'''Here is the  five key concepts Object-Oriented Programming (OOP):\n",
        "\n",
        "1)Classes and Objects:\n",
        "\n",
        "A class is like a recipe or blueprint for creating objects.\n",
        "Objects are like real things made from that recipe, and they can have properties (like color, size) and actions (like run, jump).\n",
        "\n",
        "2)Encapsulation:\n",
        "\n",
        "Encapsulation means wrapping data (properties) and actions (methods) into a single unit, like a capsule.\n",
        "It also hides some parts so people can only use what’s allowed, making it safer and easier to manage.\n",
        "\n",
        "3)Abstraction:\n",
        "\n",
        "Abstraction is about hiding all the messy details and showing only what’s important.\n",
        "Think of driving a car—you just need to know how to steer and press the pedals; you don’t need to know how the engine works.\n",
        "\n",
        "4)Inheritance:\n",
        "\n",
        "Inheritance allows one class to take on properties and actions from another class, like how a child inherits traits from parents.\n",
        "This helps to avoid rewriting code and keeps things organized.\n",
        "\n",
        "5)Polymorphism:\n",
        "\n",
        "Polymorphism means \"many shapes.\" It allows one action to work in different ways depending on the object.\n",
        "For example, the word \"draw\" can mean different things for different objects—a circle and a square would draw themselves in different ways.'"
      ],
      "metadata": {
        "id": "uVVQbTjkEGio"
      }
    },
    {
      "cell_type": "markdown",
      "source": [
        "2. Write a Python class for a `Car` with attributes for `make`, `model`, and `year`. Include a method to display the car's information.\n",
        "\n"
      ],
      "metadata": {
        "id": "XjSq6ysUEKh3"
      }
    },
    {
      "cell_type": "code",
      "source": [
        "class Car:\n",
        "    def __init__(self,make,model,year):\n",
        "\n",
        "         # Attributes\n",
        "        self.make=make\n",
        "        self.model=model\n",
        "        self.year=year\n",
        "\n",
        "    def display_info(self): # Method to display car's information\n",
        "        print(f\" Car_information= make= {self.make} , model={self.model} , year={self.year}\")\n",
        "\n",
        "car1=Car(\"Hyundai\", \"i20\", 2024)\n",
        "car1.display_info()"
      ],
      "metadata": {
        "colab": {
          "base_uri": "https://localhost:8080/"
        },
        "id": "u7mU4SrGEWKe",
        "outputId": "9935954e-5f20-4c0d-e256-2565726b0416"
      },
      "execution_count": null,
      "outputs": [
        {
          "output_type": "stream",
          "name": "stdout",
          "text": [
            " Car_information= make= Hyundai , model=i20 , year=2024\n"
          ]
        }
      ]
    },
    {
      "cell_type": "code",
      "source": [
        "##Q4\n",
        "\n",
        "class Calculator:\n",
        "    def add(self,*args):\n",
        "        return sum(args)\n",
        "\n",
        "cal=Calculator()# Create an instance of Calculator\n",
        "\n",
        "# Call the method with different numbers of arguments\n",
        "print(\"add(7,8)=\",cal.add(7,8))\n",
        "print(\"add(7,8,10)=\",cal.add(7,8,10))\n",
        "print(\"add(7,8,10,18)=\",cal.add(7,8,17,18))"
      ],
      "metadata": {
        "colab": {
          "base_uri": "https://localhost:8080/"
        },
        "id": "dIFQWjFxEYdX",
        "outputId": "df54eaf3-95b7-4b0b-c39e-89ccba194d44"
      },
      "execution_count": null,
      "outputs": [
        {
          "output_type": "stream",
          "name": "stdout",
          "text": [
            "add(7,8)= 15\n",
            "add(7,8,10)= 25\n",
            "add(7,8,10,18)= 50\n"
          ]
        }
      ]
    },
    {
      "cell_type": "code",
      "source": [
        "##  Q15\n",
        "class Year:\n",
        "    @staticmethod\n",
        "    def is_leap_year(year):\n",
        "        # A year is a leap year if:\n",
        "        # - It is divisible by 4\n",
        "        # - If divisible by 100, it must also be divisible by 400\n",
        "        if (year % 4 == 0) and (year % 100 != 0 or year % 400 == 0):\n",
        "            return True\n",
        "        return False\n",
        "\n",
        "# Example usage:\n",
        "print(Year.is_leap_year(2020))  # Output: True (2020 is a leap year)\n",
        "print(Year.is_leap_year(2021))  # Output: False (2021 is not a leap year)\n",
        "print(Year.is_leap_year(1900))  # Output: False (1900 is not a leap year)\n",
        "print(Year.is_leap_year(2000))  # Output: True (2000 is a leap year)"
      ],
      "metadata": {
        "colab": {
          "base_uri": "https://localhost:8080/"
        },
        "id": "RyLePDGfFcdP",
        "outputId": "f8b6ccf7-717a-46af-e394-1cd44e117f22"
      },
      "execution_count": null,
      "outputs": [
        {
          "output_type": "stream",
          "name": "stdout",
          "text": [
            "True\n",
            "False\n",
            "False\n",
            "True\n"
          ]
        }
      ]
    },
    {
      "cell_type": "code",
      "source": [
        "  ##Q14\n",
        "  class MyClass:\n",
        "\n",
        "    instance_count = 0\n",
        "\n",
        "    def __init__(self):\n",
        "        # Increment the count every time a new instance is created\n",
        "        MyClass.instance_count += 1\n",
        "\n",
        "    @classmethod\n",
        "    def get_instance_count(cls):\n",
        "        # Class method to return the current count of instances\n",
        "        return cls.instance_count\n",
        "\n",
        "\n",
        "obj1 = MyClass()\n",
        "obj2 = MyClass()\n",
        "obj3 = MyClass()\n",
        "\n",
        "\n",
        "print(\"Number of instances created:\", MyClass.get_instance_count())"
      ],
      "metadata": {
        "colab": {
          "base_uri": "https://localhost:8080/"
        },
        "id": "ml7DMreMGlc_",
        "outputId": "e79723b8-4343-4599-f61d-2283aa2557c1"
      },
      "execution_count": null,
      "outputs": [
        {
          "output_type": "stream",
          "name": "stdout",
          "text": [
            "Number of instances created: 3\n"
          ]
        }
      ]
    },
    {
      "cell_type": "code",
      "source": [
        "#Q12. Create a decorator that measures and prints the execution time of a function.\n",
        "\n",
        "import time\n",
        "\n",
        "def Execution(func):\n",
        "    def Wrapper(*arwgs,**kwargs):\n",
        "        start_time=time.time()\n",
        "        result=func(*arwgs,**kwargs)\n",
        "        end_time=time.time()\n",
        "        execution_time=end_time - start_time\n",
        "        print(f\"Execution time {func.__name__}: {execution_time:.6f}\")\n",
        "        return result\n",
        "    return Wrapper\n",
        "\n",
        "@Execution\n",
        "def function():\n",
        "    print('function is running')\n",
        "    time.sleep(2)\n",
        "\n",
        "function()\n",
        ""
      ],
      "metadata": {
        "id": "F_tCl6g8HR3r",
        "colab": {
          "base_uri": "https://localhost:8080/"
        },
        "outputId": "5bbd554b-99c6-49d9-bd6e-3ddbe4bd954c"
      },
      "execution_count": 1,
      "outputs": [
        {
          "output_type": "stream",
          "name": "stdout",
          "text": [
            "function is running\n",
            "Execution time function: 2.002963\n"
          ]
        }
      ]
    },
    {
      "cell_type": "code",
      "source": [
        "##Q9'''Polymorphism:\n"
      ],
      "metadata": {
        "id": "s6l-BJSTwPu8"
      },
      "execution_count": 8,
      "outputs": []
    },
    {
      "cell_type": "markdown",
      "source": [
        "The function print_area() takes a shape object as an argument.\n",
        "It doesn't need to know the specific type of the shape; it just calls the area() method.\n",
        "As long as the object passed to print_area() has an area() method (like Circle, Rectangle, or Triangle),\n",
        "the function works. This is polymorphism, where objects of different types can be treated uniformly through a common interface.'''"
      ],
      "metadata": {
        "id": "YpYf3RHbPgz2"
      }
    },
    {
      "cell_type": "markdown",
      "source": [],
      "metadata": {
        "id": "_W-fUkz8xLiU"
      }
    },
    {
      "cell_type": "code",
      "source": [
        "# Base class for Shape\n",
        "class Shape:\n",
        "     # Base class can have methods or be empty\n",
        "    pass\n",
        "\n",
        "# Circle class inheriting from Shape\n",
        "class Circle(Shape):\n",
        "    def __init__(self,radius):\n",
        "        self.radius=radius\n",
        "    def area (self): # Method to calculate the area of a circle\n",
        "        return 3.14*self.radius**2\n",
        "\n",
        "class Rectangle(Shape):# Rectangle class inheriting from Shape\n",
        "    def __init__(self,length,breath):\n",
        "        self.length=length\n",
        "        self.breath=breath\n",
        "    def area(self): # Method to calculate the area of a rectangle\n",
        "        return  self.length * self.breath\n",
        "\n",
        "def print_area(Shape):\n",
        "    print(f'The area is {Shape.area()}')\n",
        "\n",
        "\n",
        "C=Circle(4)\n",
        "R=Rectangle(4,6)\n",
        "\n",
        "print_area(C) #print_area(circle) calls the area() method of Circle.\n",
        "print_area(R) #print_area(rectangle) calls the area() method of Rectangle.\n",
        ""
      ],
      "metadata": {
        "colab": {
          "base_uri": "https://localhost:8080/"
        },
        "id": "rCI1Dy8ePj5n",
        "outputId": "fa40ee76-aad7-43f5-8bd9-e395c3f27221"
      },
      "execution_count": 1,
      "outputs": [
        {
          "output_type": "stream",
          "name": "stdout",
          "text": [
            "The area is 50.24\n",
            "The area is 24\n"
          ]
        }
      ]
    },
    {
      "cell_type": "code",
      "source": [
        "##Q10.\n",
        "class Bank_Account:\n",
        "    def __init__(self, account_number,balance=0):\n",
        "        # Private attributes (encapsulated)\n",
        "        self.__account_number=account_number\n",
        "        self.__balance=balance\n",
        "\n",
        "# Method to deposit money\n",
        "    def deposit(self,amount):\n",
        "        if amount>0:\n",
        "            self.__balance+=amount\n",
        "            print(f'Deposited amount:{amount},Updated balance={self.__balance}')\n",
        "            return self.__balance # Return the updated balance\n",
        "        else:\n",
        "            print('Amount should be positive')\n",
        "            return None\n",
        "  # Method to withdraw mone\n",
        "    def Withdrawal(self,amount):\n",
        "        if 0<amount<=self.__balance:\n",
        "            self.__balance-=amount\n",
        "            print(f'Withdrawal amount:{amount},Updated balance={self.__balance}')\n",
        "            return self.__balance  # Return the updated balance\n",
        "        else:\n",
        "            print('Insufficent balance ')\n",
        "            return None\n",
        "\n",
        "\n",
        "\n",
        "    def check_balance(self):\n",
        "        print(f\"your current balance is:{self.__balance}\")\n",
        "        return self.__balance\n",
        "\n",
        "    def get_acc_number(self):\n",
        "        return self.__account_number\n",
        "\n",
        "\n",
        "Ram=Bank_Account('ABC123456',10000)\n",
        "print(f'deposit amount-{Ram.deposit(5000)}')\n",
        "print('withdrew amount-',Ram.Withdrawal(1000))\n",
        "print('check_balance-',Ram.check_balance())"
      ],
      "metadata": {
        "colab": {
          "base_uri": "https://localhost:8080/"
        },
        "id": "ew588tufPnOt",
        "outputId": "a9da84dd-4e14-4a08-c6bf-e7b5e20ea672"
      },
      "execution_count": 2,
      "outputs": [
        {
          "output_type": "stream",
          "name": "stdout",
          "text": [
            "Deposited amount:5000,Updated balance=15000\n",
            "deposit amount-15000\n",
            "Withdrawal amount:1000,Updated balance=14000\n",
            "withdrew amount- 14000\n",
            "your current balance is:14000\n",
            "check_balance- 14000\n"
          ]
        }
      ]
    },
    {
      "cell_type": "code",
      "source": [
        "##Q11\n",
        "class Book:\n",
        "    def __init__(self,title,pages):\n",
        "        self.title=title\n",
        "        self.pages=pages\n",
        "\n",
        "\n",
        "    def __str__(self):\n",
        "        return f\"Title-{self.title},Pages={self.pages}.\"\n",
        "\n",
        "    def __add__(self,other):\n",
        "        total_pages=self.pages+other.pages\n",
        "        return f'Combine pages of={self.title}and{other.title} is {total_pages}'\n",
        "\n",
        "# Creating two book objects\n",
        "book1 = Book(\"Python Basics\", 300)\n",
        "book2 = Book(\"Advanced Python\", 400)\n",
        "print(\"book1=\",book1)\n",
        "print(\"book2=\",book2)\n",
        "print(book1 + book2)\n"
      ],
      "metadata": {
        "colab": {
          "base_uri": "https://localhost:8080/"
        },
        "id": "AhHGvO_9QEeH",
        "outputId": "b3bbf84f-111c-4dae-e2f3-34af77aaf9ac"
      },
      "execution_count": 3,
      "outputs": [
        {
          "output_type": "stream",
          "name": "stdout",
          "text": [
            "book1= Title-Python Basics,Pages=300.\n",
            "book2= Title-Advanced Python,Pages=400.\n",
            "Combine pages of=Python BasicsandAdvanced Python is 700\n"
          ]
        }
      ]
    },
    {
      "cell_type": "code",
      "source": [
        "##Q8\n"
      ],
      "metadata": {
        "id": "G-T9-Aj2Qfjm"
      },
      "execution_count": null,
      "outputs": []
    }
  ]
}