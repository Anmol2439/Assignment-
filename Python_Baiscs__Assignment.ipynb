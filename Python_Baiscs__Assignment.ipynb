{
  "nbformat": 4,
  "nbformat_minor": 0,
  "metadata": {
    "colab": {
      "provenance": []
    },
    "kernelspec": {
      "name": "python3",
      "display_name": "Python 3"
    },
    "language_info": {
      "name": "python"
    }
  },
  "cells": [
    {
      "cell_type": "code",
      "execution_count": null,
      "metadata": {
        "id": "Q87TvNcgm0BR"
      },
      "outputs": [],
      "source": []
    },
    {
      "cell_type": "markdown",
      "source": [
        "##Q1.\n",
        "Answer:\n",
        "Here are the key points that make Python popular:\n",
        "\n",
        "1. **Readability and Simplicity** – Clean, intuitive syntax.\n",
        "2. **Dynamic Typing** – No need for explicit variable declarations.\n",
        "3. **Interpreted Language** – Executes code line-by-line for easy debugging.\n",
        "4. **Extensive Standard Library** – Built-in modules for common tasks.\n",
        "5. **Cross-Platform Compatibility** – Works on various operating systems.\n",
        "6. **Large Community and Ecosystem** – Vast resources, libraries, and frameworks.\n",
        "7. **Supports Multiple Paradigms** – Object-oriented, procedural, functional.\n",
        "8. **Integration with Other Languages** – Works with C, C++, Java, etc.\n",
        "9. **Versatile Across Domains** – Web dev, data science, automation, and more.\n",
        "\n"
      ],
      "metadata": {
        "id": "UonWxnBmm2HQ"
      }
    },
    {
      "cell_type": "code",
      "source": [],
      "metadata": {
        "id": "TP7IHj12m4vz"
      },
      "execution_count": null,
      "outputs": []
    },
    {
      "cell_type": "markdown",
      "source": [
        "##Q2.\n",
        "\n",
        "Predefined keywords, sometimes referred to as reserved words, are special terms having designated meanings and functions in the Python language. These keywords are fundamental to the grammar of Python and are reserved for predefined functionalities.\n",
        "\n",
        "some of the predefined keywords are:\n",
        "1.If\n",
        "2.else\n",
        "3.while\n",
        "4.for\n",
        "5.true\n",
        "6.false\n",
        "7.none\n",
        "8.elif\n",
        "9.import\n",
        "10.from\n",
        "11.as\n",
        "\n",
        "\n"
      ],
      "metadata": {
        "id": "lJOJ3a7zpPBC"
      }
    },
    {
      "cell_type": "markdown",
      "source": [],
      "metadata": {
        "id": "bhZIzYeL6vx7"
      }
    },
    {
      "cell_type": "code",
      "source": [
        "#for example\n",
        "age=21\n",
        "if age >= 18:\n",
        "  print(\"you will be served alcohol\")\n",
        "else:\n",
        "  print(\"get out from here\")"
      ],
      "metadata": {
        "colab": {
          "base_uri": "https://localhost:8080/"
        },
        "id": "i4UXr-5PsJ3X",
        "outputId": "a2bf2565-373e-4e3e-9c40-eb18db986e56"
      },
      "execution_count": 1,
      "outputs": [
        {
          "output_type": "stream",
          "name": "stdout",
          "text": [
            "you will be served alcohol\n"
          ]
        }
      ]
    },
    {
      "cell_type": "code",
      "source": [
        "# example 2\n",
        "weather = \"sunny\"\n",
        "if weather == \"rainy\":\n",
        "  print(\"i will sstay inside\")\n",
        "else:\n",
        "    print(\"i will go to play outside\")"
      ],
      "metadata": {
        "colab": {
          "base_uri": "https://localhost:8080/"
        },
        "id": "jOgTMv5fqkpk",
        "outputId": "129ff2b3-0380-489d-c999-5e82ad72f0e2"
      },
      "execution_count": 5,
      "outputs": [
        {
          "output_type": "stream",
          "name": "stdout",
          "text": [
            "i will go to play outside\n"
          ]
        }
      ]
    },
    {
      "cell_type": "code",
      "source": [],
      "metadata": {
        "id": "aF1pamrrwbkz"
      },
      "execution_count": null,
      "outputs": []
    },
    {
      "cell_type": "markdown",
      "source": [
        "##Q3.\n",
        "\n",
        "Definition of **Mutable Objects**: After they are generated, mutable objects are subject to change. Their contents can be updated, added, or removed without affecting the object's identity.\n",
        "Lists, dictionaries, sets, and the majority of user-defined objects are common examples.\n",
        "\n",
        "Important characteristics:\n",
        "Changes can be made to mutable objects in-place: A mutable object is something you are changing when you make changes to it.\n",
        "The identification (memory address) stays the same: The original object undergoes modifications, so its ID remains unchanged.\n",
        "\n",
        "**Immutable things**: Definition: Once formed, immutable things cannot be altered. Any attempt to change an immutable object will result in the creation of a new object as opposed to the modification of the original.\n",
        "Floats, Booleans, integers, tuples, and strings are common examples.\n",
        "\n",
        "Important characteristics:\n",
        "Things that are immutable cannot be completely changed: Attempts to change them yield the creation of a new item.\n",
        "The identification (memory address) shifts: Changes create a new object with a new ID because the original object cannot be changed.\n",
        "\n",
        "\n"
      ],
      "metadata": {
        "id": "9QXfjjgRxn27"
      }
    },
    {
      "cell_type": "code",
      "source": [
        "## Mutable objects\n",
        "A=['apple','banana',0,'true',9]\n",
        "A[0]"
      ],
      "metadata": {
        "colab": {
          "base_uri": "https://localhost:8080/",
          "height": 35
        },
        "id": "W643nTP2ye0e",
        "outputId": "ea890b49-3902-4e71-a9a7-3a50ee029cd0"
      },
      "execution_count": 7,
      "outputs": [
        {
          "output_type": "execute_result",
          "data": {
            "text/plain": [
              "'apple'"
            ],
            "application/vnd.google.colaboratory.intrinsic+json": {
              "type": "string"
            }
          },
          "metadata": {},
          "execution_count": 7
        }
      ]
    },
    {
      "cell_type": "code",
      "source": [
        "A[0]= 'peach'"
      ],
      "metadata": {
        "id": "HlvFeEOEzWNU"
      },
      "execution_count": 8,
      "outputs": []
    },
    {
      "cell_type": "code",
      "source": [
        "A"
      ],
      "metadata": {
        "colab": {
          "base_uri": "https://localhost:8080/"
        },
        "id": "VRTwB5aWzs0D",
        "outputId": "b31f6344-069b-4f36-b747-a68c263ed430"
      },
      "execution_count": 11,
      "outputs": [
        {
          "output_type": "execute_result",
          "data": {
            "text/plain": [
              "['peach', 'banana', 0, 'true', 9]"
            ]
          },
          "metadata": {},
          "execution_count": 11
        }
      ]
    },
    {
      "cell_type": "code",
      "source": [
        "## immutable objects\n",
        "a=\"anmol\""
      ],
      "metadata": {
        "id": "-Kz7rsKFzuhB"
      },
      "execution_count": 12,
      "outputs": []
    },
    {
      "cell_type": "code",
      "source": [
        "a[2]"
      ],
      "metadata": {
        "colab": {
          "base_uri": "https://localhost:8080/",
          "height": 35
        },
        "id": "NT04QpFD0WHd",
        "outputId": "8b080f01-3b23-4031-8818-1ee89c604cd5"
      },
      "execution_count": 13,
      "outputs": [
        {
          "output_type": "execute_result",
          "data": {
            "text/plain": [
              "'m'"
            ],
            "application/vnd.google.colaboratory.intrinsic+json": {
              "type": "string"
            }
          },
          "metadata": {},
          "execution_count": 13
        }
      ]
    },
    {
      "cell_type": "code",
      "source": [
        "a[0]=\"b\""
      ],
      "metadata": {
        "colab": {
          "base_uri": "https://localhost:8080/",
          "height": 144
        },
        "id": "raEhxm-w0gHV",
        "outputId": "39113b30-e213-43b1-955d-88d92cfb0550"
      },
      "execution_count": 14,
      "outputs": [
        {
          "output_type": "error",
          "ename": "TypeError",
          "evalue": "'str' object does not support item assignment",
          "traceback": [
            "\u001b[0;31m---------------------------------------------------------------------------\u001b[0m",
            "\u001b[0;31mTypeError\u001b[0m                                 Traceback (most recent call last)",
            "\u001b[0;32m<ipython-input-14-2ede1f5ec3cc>\u001b[0m in \u001b[0;36m<cell line: 1>\u001b[0;34m()\u001b[0m\n\u001b[0;32m----> 1\u001b[0;31m \u001b[0ma\u001b[0m\u001b[0;34m[\u001b[0m\u001b[0;36m0\u001b[0m\u001b[0;34m]\u001b[0m\u001b[0;34m=\u001b[0m\u001b[0;34m\"b\"\u001b[0m\u001b[0;34m\u001b[0m\u001b[0;34m\u001b[0m\u001b[0m\n\u001b[0m",
            "\u001b[0;31mTypeError\u001b[0m: 'str' object does not support item assignment"
          ]
        }
      ]
    },
    {
      "cell_type": "code",
      "source": [
        "\n",
        "\n"
      ],
      "metadata": {
        "id": "v8jbyrHl0rXN"
      },
      "execution_count": null,
      "outputs": []
    },
    {
      "cell_type": "markdown",
      "source": [
        "##Q4. Different types of operators:\n",
        "\n",
        "Special keywords/symbols\n"
      ],
      "metadata": {
        "id": "6DwMsUVD0tf-"
      }
    },
    {
      "cell_type": "code",
      "source": [
        "a=3\n",
        "b=5\n",
        "a+b\n",
        "## + is the operator"
      ],
      "metadata": {
        "colab": {
          "base_uri": "https://localhost:8080/"
        },
        "id": "ymKZk6S12Kku",
        "outputId": "5dc74469-9031-4127-e1e6-9cf08bca0c84"
      },
      "execution_count": 15,
      "outputs": [
        {
          "output_type": "execute_result",
          "data": {
            "text/plain": [
              "8"
            ]
          },
          "metadata": {},
          "execution_count": 15
        }
      ]
    },
    {
      "cell_type": "code",
      "source": [
        "## for adding power we need to use two astric\n",
        "## 3 power 6 = 3*3*3*3*3*3\n",
        "## in python we can do it by\n",
        "3**6"
      ],
      "metadata": {
        "colab": {
          "base_uri": "https://localhost:8080/"
        },
        "id": "LKC1zydx2SNT",
        "outputId": "c255b947-c585-48fa-adf0-9d5575dd2b3d"
      },
      "execution_count": 16,
      "outputs": [
        {
          "output_type": "execute_result",
          "data": {
            "text/plain": [
              "729"
            ]
          },
          "metadata": {},
          "execution_count": 16
        }
      ]
    },
    {
      "cell_type": "code",
      "source": [],
      "metadata": {
        "id": "taFrRdLA3AdI"
      },
      "execution_count": null,
      "outputs": []
    },
    {
      "cell_type": "markdown",
      "source": [
        "## two divide // gives **floor operator**\n",
        "It gives lower value"
      ],
      "metadata": {
        "id": "WwDEA1_R3atb"
      }
    },
    {
      "cell_type": "code",
      "source": [
        "4//3"
      ],
      "metadata": {
        "colab": {
          "base_uri": "https://localhost:8080/"
        },
        "id": "_3aOkZYz3pe_",
        "outputId": "f651f5bc-e5d4-48f4-8303-b90ad212bb7b"
      },
      "execution_count": 17,
      "outputs": [
        {
          "output_type": "execute_result",
          "data": {
            "text/plain": [
              "1"
            ]
          },
          "metadata": {},
          "execution_count": 17
        }
      ]
    },
    {
      "cell_type": "code",
      "source": [],
      "metadata": {
        "id": "eZBB8Zj73uYz"
      },
      "execution_count": null,
      "outputs": []
    },
    {
      "cell_type": "markdown",
      "source": [
        "## comparison operator\n",
        "it compares two value and gives a boolean\n"
      ],
      "metadata": {
        "id": "mrCp1PrN3wF2"
      }
    },
    {
      "cell_type": "code",
      "source": [
        "2==2"
      ],
      "metadata": {
        "colab": {
          "base_uri": "https://localhost:8080/"
        },
        "id": "OvojUmEJ35Wz",
        "outputId": "4347ac32-1c1f-42a2-ac42-2fd7afad9cc6"
      },
      "execution_count": 18,
      "outputs": [
        {
          "output_type": "execute_result",
          "data": {
            "text/plain": [
              "True"
            ]
          },
          "metadata": {},
          "execution_count": 18
        }
      ]
    },
    {
      "cell_type": "code",
      "source": [],
      "metadata": {
        "id": "3dHdiWbX37Eb"
      },
      "execution_count": null,
      "outputs": []
    },
    {
      "cell_type": "markdown",
      "source": [
        "##logical operator\n",
        "#and\n",
        "#or\n"
      ],
      "metadata": {
        "id": "URnhD1Vw3_Rk"
      }
    },
    {
      "cell_type": "code",
      "source": [],
      "metadata": {
        "id": "4ueqso783-s_"
      },
      "execution_count": null,
      "outputs": []
    },
    {
      "cell_type": "markdown",
      "source": [
        "#MEmbership operator\n"
      ],
      "metadata": {
        "id": "-UuHtM4U4P1c"
      }
    },
    {
      "cell_type": "code",
      "source": [
        "a=\"pwskills\"\n",
        "\"p\" in a"
      ],
      "metadata": {
        "colab": {
          "base_uri": "https://localhost:8080/"
        },
        "id": "CvcJNDXe4VpI",
        "outputId": "42fd2115-19e3-479c-f4e8-4559465c68e1"
      },
      "execution_count": 19,
      "outputs": [
        {
          "output_type": "execute_result",
          "data": {
            "text/plain": [
              "True"
            ]
          },
          "metadata": {},
          "execution_count": 19
        }
      ]
    },
    {
      "cell_type": "code",
      "source": [],
      "metadata": {
        "id": "hflZcGB84cx6"
      },
      "execution_count": null,
      "outputs": []
    },
    {
      "cell_type": "markdown",
      "source": [
        "## Identity operators\n",
        "compares the location of two variables"
      ],
      "metadata": {
        "id": "ANyupup_4q0N"
      }
    },
    {
      "cell_type": "code",
      "source": [
        "a=2\n",
        "b=3\n",
        "a is b"
      ],
      "metadata": {
        "colab": {
          "base_uri": "https://localhost:8080/"
        },
        "id": "XR8At8g140VV",
        "outputId": "40e85ee3-bceb-4929-d8ef-7a069c2ad4a3"
      },
      "execution_count": 20,
      "outputs": [
        {
          "output_type": "execute_result",
          "data": {
            "text/plain": [
              "False"
            ]
          },
          "metadata": {},
          "execution_count": 20
        }
      ]
    },
    {
      "cell_type": "code",
      "source": [],
      "metadata": {
        "id": "P9k2YDFU43_M"
      },
      "execution_count": null,
      "outputs": []
    },
    {
      "cell_type": "markdown",
      "source": [
        "## Bitwise operator\n",
        "binary representation of any number"
      ],
      "metadata": {
        "id": "LdhVGPYl46jV"
      }
    },
    {
      "cell_type": "code",
      "source": [
        "bin(10)"
      ],
      "metadata": {
        "colab": {
          "base_uri": "https://localhost:8080/",
          "height": 35
        },
        "id": "9CvdrJmF5DFT",
        "outputId": "87b9686d-ed57-4b9f-a334-e9ccf2f42433"
      },
      "execution_count": 22,
      "outputs": [
        {
          "output_type": "execute_result",
          "data": {
            "text/plain": [
              "'0b1010'"
            ],
            "application/vnd.google.colaboratory.intrinsic+json": {
              "type": "string"
            }
          },
          "metadata": {},
          "execution_count": 22
        }
      ]
    },
    {
      "cell_type": "code",
      "source": [],
      "metadata": {
        "id": "mjZzsJm15G5-"
      },
      "execution_count": null,
      "outputs": []
    },
    {
      "cell_type": "markdown",
      "source": [
        "##Q5\n",
        "Typecasting in Python refers to converting one data type into another. This process is also known as type conversion. It can be done either implicitly  or explicitly .\n"
      ],
      "metadata": {
        "id": "YNIE5wHU6x2M"
      }
    },
    {
      "cell_type": "code",
      "source": [
        "a=4\n",
        "a"
      ],
      "metadata": {
        "colab": {
          "base_uri": "https://localhost:8080/"
        },
        "id": "l9MQyulV63o6",
        "outputId": "c355e7c0-6f12-4443-9c1d-0a6c77393b65"
      },
      "execution_count": 23,
      "outputs": [
        {
          "output_type": "execute_result",
          "data": {
            "text/plain": [
              "4"
            ]
          },
          "metadata": {},
          "execution_count": 23
        }
      ]
    },
    {
      "cell_type": "code",
      "source": [
        "type(a)"
      ],
      "metadata": {
        "colab": {
          "base_uri": "https://localhost:8080/"
        },
        "id": "-rnA_GmL7iNg",
        "outputId": "894fe052-784d-4927-e703-c220d924a138"
      },
      "execution_count": 24,
      "outputs": [
        {
          "output_type": "execute_result",
          "data": {
            "text/plain": [
              "int"
            ]
          },
          "metadata": {},
          "execution_count": 24
        }
      ]
    },
    {
      "cell_type": "code",
      "source": [
        "b=3.4\n",
        "type(b)"
      ],
      "metadata": {
        "colab": {
          "base_uri": "https://localhost:8080/"
        },
        "id": "_-LZxIrv7oF1",
        "outputId": "d3d61280-1de4-442d-919f-17798b6ef358"
      },
      "execution_count": 25,
      "outputs": [
        {
          "output_type": "execute_result",
          "data": {
            "text/plain": [
              "float"
            ]
          },
          "metadata": {},
          "execution_count": 25
        }
      ]
    },
    {
      "cell_type": "code",
      "source": [
        "## change of type\n",
        "int(b)"
      ],
      "metadata": {
        "colab": {
          "base_uri": "https://localhost:8080/"
        },
        "id": "5KYuP5Q07sXv",
        "outputId": "a5175141-3702-4e7f-e944-9777f6daaf7f"
      },
      "execution_count": 26,
      "outputs": [
        {
          "output_type": "execute_result",
          "data": {
            "text/plain": [
              "3"
            ]
          },
          "metadata": {},
          "execution_count": 26
        }
      ]
    },
    {
      "cell_type": "code",
      "source": [
        "a='1'\n",
        "type(a)"
      ],
      "metadata": {
        "colab": {
          "base_uri": "https://localhost:8080/"
        },
        "id": "ea4SMAPv8Msn",
        "outputId": "7033b09b-211a-489c-e959-f4918d0f5c08"
      },
      "execution_count": 27,
      "outputs": [
        {
          "output_type": "execute_result",
          "data": {
            "text/plain": [
              "str"
            ]
          },
          "metadata": {},
          "execution_count": 27
        }
      ]
    },
    {
      "cell_type": "code",
      "source": [
        "b=4\n",
        "type(b)"
      ],
      "metadata": {
        "colab": {
          "base_uri": "https://localhost:8080/"
        },
        "id": "HIDWmltW87ej",
        "outputId": "6876b63b-60d4-4d37-bd65-e21e16c46174"
      },
      "execution_count": 32,
      "outputs": [
        {
          "output_type": "execute_result",
          "data": {
            "text/plain": [
              "int"
            ]
          },
          "metadata": {},
          "execution_count": 32
        }
      ]
    },
    {
      "cell_type": "code",
      "source": [
        "##so a+b not possible\n",
        "\n",
        "int(a)+b"
      ],
      "metadata": {
        "colab": {
          "base_uri": "https://localhost:8080/"
        },
        "id": "TTVJXZpe9EaY",
        "outputId": "fb2ff3cf-f1dd-4728-ad7b-4a4516323640"
      },
      "execution_count": 33,
      "outputs": [
        {
          "output_type": "execute_result",
          "data": {
            "text/plain": [
              "5"
            ]
          },
          "metadata": {},
          "execution_count": 33
        }
      ]
    },
    {
      "cell_type": "code",
      "source": [
        "## here we changed string in integer"
      ],
      "metadata": {
        "id": "tk1lMrUO9vsm"
      },
      "execution_count": 34,
      "outputs": []
    },
    {
      "cell_type": "code",
      "source": [
        "\n",
        "\n"
      ],
      "metadata": {
        "id": "wxPZ5Akp-Dbi"
      },
      "execution_count": 34,
      "outputs": []
    },
    {
      "cell_type": "code",
      "source": [],
      "metadata": {
        "id": "J7qtGzys-EfK"
      },
      "execution_count": null,
      "outputs": []
    },
    {
      "cell_type": "markdown",
      "source": [
        "## Q6.\n",
        "Conditional statements in Python control the flow of a program by allowing you to execute different code blocks based on certain conditions. They evaluate expressions and execute the code inside the statement if the expression evaluates to True. Python provides several types of conditional statements: if, elif, and else."
      ],
      "metadata": {
        "id": "pKzKQkFn-HWz"
      }
    },
    {
      "cell_type": "code",
      "source": [
        "age=21\n",
        "if age >= 18:\n",
        "  print(\"you will be served alcohol\")\n",
        "else:\n",
        "  print(\"get out from here\")"
      ],
      "metadata": {
        "colab": {
          "base_uri": "https://localhost:8080/"
        },
        "id": "mB4idwCd-rBR",
        "outputId": "8b6ac503-f01e-4925-c8ac-61c3e0cd83fa"
      },
      "execution_count": 35,
      "outputs": [
        {
          "output_type": "stream",
          "name": "stdout",
          "text": [
            "you will be served alcohol\n"
          ]
        }
      ]
    },
    {
      "cell_type": "code",
      "source": [
        "## Multiple condititon\n",
        "age=80\n",
        "if age < 18:\n",
        "  print(\"you are minor\")\n",
        "elif 18<age<=65:\n",
        "  print(\"youre adult\")\n",
        "else:\n",
        "  print(\"youre senior citizen\")"
      ],
      "metadata": {
        "colab": {
          "base_uri": "https://localhost:8080/"
        },
        "id": "ZgWZy7Y3-81r",
        "outputId": "987245c9-3e4f-45cc-93b2-170733d4090d"
      },
      "execution_count": 36,
      "outputs": [
        {
          "output_type": "stream",
          "name": "stdout",
          "text": [
            "youre senior citizen\n"
          ]
        }
      ]
    },
    {
      "cell_type": "code",
      "source": [],
      "metadata": {
        "id": "0qyr8NIp_fDA"
      },
      "execution_count": null,
      "outputs": []
    },
    {
      "cell_type": "markdown",
      "source": [
        "##Q7.\n",
        "Python supports two main types of loops: **for** loops and **while** loops. Both are used to execute a block of code repeatedly, but they differ in how and when they check the condition for iteration."
      ],
      "metadata": {
        "id": "QGuLW5GL_qwJ"
      }
    },
    {
      "cell_type": "code",
      "source": [
        "## example for while\n",
        "n=7\n",
        "i=1\n",
        "while i < n:\n",
        "  print (i)\n",
        "  i=i+1"
      ],
      "metadata": {
        "id": "omD7JW6nAw8W",
        "outputId": "1fc37785-06fe-4b1e-e8c2-c16faa3b8d22",
        "colab": {
          "base_uri": "https://localhost:8080/"
        }
      },
      "execution_count": 38,
      "outputs": [
        {
          "output_type": "stream",
          "name": "stdout",
          "text": [
            "1\n",
            "2\n",
            "3\n",
            "4\n",
            "5\n",
            "6\n"
          ]
        }
      ]
    },
    {
      "cell_type": "code",
      "source": [
        "## example 2\n",
        "count= 20\n",
        "while count > 0:\n",
        "  print(count)\n",
        "  count = count-1"
      ],
      "metadata": {
        "id": "pOIT3SeIBUpP",
        "outputId": "6dda33a3-6949-43dc-c75c-a53fd2a2a7f8",
        "colab": {
          "base_uri": "https://localhost:8080/"
        }
      },
      "execution_count": 39,
      "outputs": [
        {
          "output_type": "stream",
          "name": "stdout",
          "text": [
            "20\n",
            "19\n",
            "18\n",
            "17\n",
            "16\n",
            "15\n",
            "14\n",
            "13\n",
            "12\n",
            "11\n",
            "10\n",
            "9\n",
            "8\n",
            "7\n",
            "6\n",
            "5\n",
            "4\n",
            "3\n",
            "2\n",
            "1\n"
          ]
        }
      ]
    },
    {
      "cell_type": "code",
      "source": [
        "## For example\n",
        "a = [1,2, \"anmol\", \"data\"]\n",
        "for i in a:\n",
        "    print(i)"
      ],
      "metadata": {
        "id": "04efJ1S3BjXa",
        "outputId": "95d60a28-df5b-4fe9-ddeb-a79bb818d6ac",
        "colab": {
          "base_uri": "https://localhost:8080/"
        }
      },
      "execution_count": 42,
      "outputs": [
        {
          "output_type": "stream",
          "name": "stdout",
          "text": [
            "1\n",
            "2\n",
            "anmol\n",
            "data\n"
          ]
        }
      ]
    },
    {
      "cell_type": "code",
      "source": [],
      "metadata": {
        "id": "Q0E_-6OdB0NI"
      },
      "execution_count": null,
      "outputs": []
    }
  ]
}