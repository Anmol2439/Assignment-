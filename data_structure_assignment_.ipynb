{
  "nbformat": 4,
  "nbformat_minor": 0,
  "metadata": {
    "colab": {
      "provenance": []
    },
    "kernelspec": {
      "name": "python3",
      "display_name": "Python 3"
    },
    "language_info": {
      "name": "python"
    }
  },
  "cells": [
    {
      "cell_type": "markdown",
      "source": [
        "##Assignment 2"
      ],
      "metadata": {
        "id": "TTEneFY3jtUB"
      }
    },
    {
      "cell_type": "markdown",
      "source": [
        "Question 1.\n",
        "String slicing in Python is a technique used to extract a portion of a string (a substring) by specifying a range of indices.\n",
        "For example"
      ],
      "metadata": {
        "id": "oBSECFE9kB3V"
      }
    },
    {
      "cell_type": "code",
      "source": [
        "a = \"i am inevitable\"\n",
        "a"
      ],
      "metadata": {
        "colab": {
          "base_uri": "https://localhost:8080/",
          "height": 35
        },
        "id": "8VDW4Tk4kccj",
        "outputId": "61d66278-319e-4ad1-f1a7-701b31d552a1"
      },
      "execution_count": 5,
      "outputs": [
        {
          "output_type": "execute_result",
          "data": {
            "text/plain": [
              "'i am inevitable'"
            ],
            "application/vnd.google.colaboratory.intrinsic+json": {
              "type": "string"
            }
          },
          "metadata": {},
          "execution_count": 5
        }
      ]
    },
    {
      "cell_type": "code",
      "source": [
        "a[0]"
      ],
      "metadata": {
        "colab": {
          "base_uri": "https://localhost:8080/",
          "height": 35
        },
        "id": "1fayiENFkzh3",
        "outputId": "184988d4-8d31-495b-a9c0-d36d06e14491"
      },
      "execution_count": 6,
      "outputs": [
        {
          "output_type": "execute_result",
          "data": {
            "text/plain": [
              "'i'"
            ],
            "application/vnd.google.colaboratory.intrinsic+json": {
              "type": "string"
            }
          },
          "metadata": {},
          "execution_count": 6
        }
      ]
    },
    {
      "cell_type": "code",
      "source": [
        "a[3]"
      ],
      "metadata": {
        "colab": {
          "base_uri": "https://localhost:8080/",
          "height": 35
        },
        "id": "RQdVBE36lFbD",
        "outputId": "a2f726d7-8d33-437b-8b59-a79bd99fcd7e"
      },
      "execution_count": 7,
      "outputs": [
        {
          "output_type": "execute_result",
          "data": {
            "text/plain": [
              "'m'"
            ],
            "application/vnd.google.colaboratory.intrinsic+json": {
              "type": "string"
            }
          },
          "metadata": {},
          "execution_count": 7
        }
      ]
    },
    {
      "cell_type": "code",
      "source": [
        "a[-1]"
      ],
      "metadata": {
        "colab": {
          "base_uri": "https://localhost:8080/",
          "height": 35
        },
        "id": "0Sp0SCHelfBK",
        "outputId": "6e165f58-fbe7-49ea-b268-bc9bc5d85ca9"
      },
      "execution_count": 8,
      "outputs": [
        {
          "output_type": "execute_result",
          "data": {
            "text/plain": [
              "'e'"
            ],
            "application/vnd.google.colaboratory.intrinsic+json": {
              "type": "string"
            }
          },
          "metadata": {},
          "execution_count": 8
        }
      ]
    },
    {
      "cell_type": "code",
      "source": [
        "## for slicing"
      ],
      "metadata": {
        "id": "yII7BX4DliDe"
      },
      "execution_count": 9,
      "outputs": []
    },
    {
      "cell_type": "code",
      "source": [
        "a[0:4]"
      ],
      "metadata": {
        "colab": {
          "base_uri": "https://localhost:8080/",
          "height": 35
        },
        "id": "86HlDXM7llyQ",
        "outputId": "a5ee4197-32d1-427b-979d-f1e0306a986f"
      },
      "execution_count": 11,
      "outputs": [
        {
          "output_type": "execute_result",
          "data": {
            "text/plain": [
              "'i am'"
            ],
            "application/vnd.google.colaboratory.intrinsic+json": {
              "type": "string"
            }
          },
          "metadata": {},
          "execution_count": 11
        }
      ]
    },
    {
      "cell_type": "code",
      "source": [
        "a[3:7]"
      ],
      "metadata": {
        "colab": {
          "base_uri": "https://localhost:8080/",
          "height": 35
        },
        "id": "9V3g-Ll_lqiv",
        "outputId": "771c9155-9d65-48a5-bd6a-65644f3aa1fd"
      },
      "execution_count": 12,
      "outputs": [
        {
          "output_type": "execute_result",
          "data": {
            "text/plain": [
              "'m in'"
            ],
            "application/vnd.google.colaboratory.intrinsic+json": {
              "type": "string"
            }
          },
          "metadata": {},
          "execution_count": 12
        }
      ]
    },
    {
      "cell_type": "code",
      "source": [
        "a[0::2]"
      ],
      "metadata": {
        "colab": {
          "base_uri": "https://localhost:8080/",
          "height": 35
        },
        "id": "FByBGVLXmDFY",
        "outputId": "811344fd-d3bf-40d4-dfed-c3b63a446074"
      },
      "execution_count": 13,
      "outputs": [
        {
          "output_type": "execute_result",
          "data": {
            "text/plain": [
              "'ia nvtbe'"
            ],
            "application/vnd.google.colaboratory.intrinsic+json": {
              "type": "string"
            }
          },
          "metadata": {},
          "execution_count": 13
        }
      ]
    },
    {
      "cell_type": "code",
      "source": [
        "###[start:end:step]\n",
        "# so step 2 means it would delete every alternative alphabet\n"
      ],
      "metadata": {
        "id": "zl1TVYBJmKWF"
      },
      "execution_count": null,
      "outputs": []
    },
    {
      "cell_type": "code",
      "source": [
        "a[2::3]"
      ],
      "metadata": {
        "colab": {
          "base_uri": "https://localhost:8080/",
          "height": 35
        },
        "id": "oNKAr9TemjYU",
        "outputId": "64cdfefa-0a10-4262-850d-d8b8d7cb90b0"
      },
      "execution_count": 14,
      "outputs": [
        {
          "output_type": "execute_result",
          "data": {
            "text/plain": [
              "'aivae'"
            ],
            "application/vnd.google.colaboratory.intrinsic+json": {
              "type": "string"
            }
          },
          "metadata": {},
          "execution_count": 14
        }
      ]
    },
    {
      "cell_type": "code",
      "source": [
        "## this would step three alphabets\n"
      ],
      "metadata": {
        "id": "D29CXm0QmnjV"
      },
      "execution_count": null,
      "outputs": []
    },
    {
      "cell_type": "markdown",
      "source": [
        "## question 2\n",
        " key features of lists in Python\n",
        "\n",
        " 1) Heterogeneous: list can contain different types of data types\n",
        ""
      ],
      "metadata": {
        "id": "_G_YbCQLmtEf"
      }
    },
    {
      "cell_type": "code",
      "source": [
        "list = ['anmol','9','9.5','aviral']"
      ],
      "metadata": {
        "id": "cvtDjVhhuTDT"
      },
      "execution_count": 15,
      "outputs": []
    },
    {
      "cell_type": "code",
      "source": [
        "list"
      ],
      "metadata": {
        "colab": {
          "base_uri": "https://localhost:8080/"
        },
        "id": "MHt7r0SfvUoP",
        "outputId": "475524e4-a2f1-42e2-9aeb-36bd2d73c7ba"
      },
      "execution_count": 16,
      "outputs": [
        {
          "output_type": "execute_result",
          "data": {
            "text/plain": [
              "['anmol', '9', '9.5', 'aviral']"
            ]
          },
          "metadata": {},
          "execution_count": 16
        }
      ]
    },
    {
      "cell_type": "code",
      "source": [],
      "metadata": {
        "id": "ru0PlhyvvVeq"
      },
      "execution_count": null,
      "outputs": []
    },
    {
      "cell_type": "markdown",
      "source": [
        "2) mutability : we can change the elements of the list\n"
      ],
      "metadata": {
        "id": "AY6XCWnDvaYU"
      }
    },
    {
      "cell_type": "code",
      "source": [
        "list[0]"
      ],
      "metadata": {
        "colab": {
          "base_uri": "https://localhost:8080/",
          "height": 35
        },
        "id": "JCKRROifvgro",
        "outputId": "f2bd55ca-3586-46cb-da6e-80d95fde4b79"
      },
      "execution_count": 18,
      "outputs": [
        {
          "output_type": "execute_result",
          "data": {
            "text/plain": [
              "'anmol'"
            ],
            "application/vnd.google.colaboratory.intrinsic+json": {
              "type": "string"
            }
          },
          "metadata": {},
          "execution_count": 18
        }
      ]
    },
    {
      "cell_type": "code",
      "source": [
        "list[0]=\"sonia\"\n",
        "list"
      ],
      "metadata": {
        "colab": {
          "base_uri": "https://localhost:8080/"
        },
        "id": "bVIN9rw5vjj3",
        "outputId": "f4267048-5115-43cd-8cbc-4594ff162592"
      },
      "execution_count": 19,
      "outputs": [
        {
          "output_type": "execute_result",
          "data": {
            "text/plain": [
              "['sonia', '9', '9.5', 'aviral']"
            ]
          },
          "metadata": {},
          "execution_count": 19
        }
      ]
    },
    {
      "cell_type": "code",
      "source": [],
      "metadata": {
        "id": "EEeJ8VGFvsqo"
      },
      "execution_count": null,
      "outputs": []
    },
    {
      "cell_type": "markdown",
      "source": [
        "3)Indexing and Slicing: we can index and slice the list\n"
      ],
      "metadata": {
        "id": "qjUA3uLSvuVa"
      }
    },
    {
      "cell_type": "code",
      "source": [
        "list [-1]"
      ],
      "metadata": {
        "colab": {
          "base_uri": "https://localhost:8080/",
          "height": 35
        },
        "id": "S6RcrbHBwBRx",
        "outputId": "7b042efa-c817-46a1-9423-289d3929bbc1"
      },
      "execution_count": 20,
      "outputs": [
        {
          "output_type": "execute_result",
          "data": {
            "text/plain": [
              "'aviral'"
            ],
            "application/vnd.google.colaboratory.intrinsic+json": {
              "type": "string"
            }
          },
          "metadata": {},
          "execution_count": 20
        }
      ]
    },
    {
      "cell_type": "code",
      "source": [
        "list[1:3]"
      ],
      "metadata": {
        "colab": {
          "base_uri": "https://localhost:8080/"
        },
        "id": "E0geKByIwFKm",
        "outputId": "1585df85-8869-4e39-b143-8e003ddee85e"
      },
      "execution_count": 21,
      "outputs": [
        {
          "output_type": "execute_result",
          "data": {
            "text/plain": [
              "['9', '9.5']"
            ]
          },
          "metadata": {},
          "execution_count": 21
        }
      ]
    },
    {
      "cell_type": "code",
      "source": [],
      "metadata": {
        "id": "cIaB0mnpwIKB"
      },
      "execution_count": null,
      "outputs": []
    },
    {
      "cell_type": "markdown",
      "source": [
        "4) length of the list : len(list)"
      ],
      "metadata": {
        "id": "2Uyzv-3xwQFB"
      }
    },
    {
      "cell_type": "code",
      "source": [
        "len(list)"
      ],
      "metadata": {
        "colab": {
          "base_uri": "https://localhost:8080/"
        },
        "id": "Hu0I7PzawQ1j",
        "outputId": "9d8d9a8a-d3d1-4410-874e-b179d5d15f19"
      },
      "execution_count": 22,
      "outputs": [
        {
          "output_type": "execute_result",
          "data": {
            "text/plain": [
              "4"
            ]
          },
          "metadata": {},
          "execution_count": 22
        }
      ]
    },
    {
      "cell_type": "code",
      "source": [],
      "metadata": {
        "id": "0Cgn_4gNwYps"
      },
      "execution_count": null,
      "outputs": []
    },
    {
      "cell_type": "code",
      "source": [],
      "metadata": {
        "id": "YIb9vdzNwaV5"
      },
      "execution_count": null,
      "outputs": []
    },
    {
      "cell_type": "markdown",
      "source": [
        "5) sum of the list : sum ( list )\n"
      ],
      "metadata": {
        "id": "LurBOQ8zwanD"
      }
    },
    {
      "cell_type": "markdown",
      "source": [
        "## question 3\n",
        "1) Access the elements"
      ],
      "metadata": {
        "id": "VLGZxGrSwh9T"
      }
    },
    {
      "cell_type": "code",
      "source": [
        "H =['anuv','jain','sanya','vipin','10','110']\n",
        "## lets suppose we need to access sanya so it is on the position of 2 or -4\n"
      ],
      "metadata": {
        "id": "k3YkK37GwdFT"
      },
      "execution_count": 32,
      "outputs": []
    },
    {
      "cell_type": "code",
      "source": [
        "print(H[2])"
      ],
      "metadata": {
        "colab": {
          "base_uri": "https://localhost:8080/"
        },
        "id": "TcM3sVLvxodi",
        "outputId": "3488a14f-2245-4a9e-887f-23d6e9ca4251"
      },
      "execution_count": 33,
      "outputs": [
        {
          "output_type": "stream",
          "name": "stdout",
          "text": [
            "sanya\n"
          ]
        }
      ]
    },
    {
      "cell_type": "code",
      "source": [
        "H[-3]"
      ],
      "metadata": {
        "colab": {
          "base_uri": "https://localhost:8080/",
          "height": 35
        },
        "id": "kKdH-QpqxsKE",
        "outputId": "a05d2c83-d479-46cc-bdeb-52d3e0ebd576"
      },
      "execution_count": 34,
      "outputs": [
        {
          "output_type": "execute_result",
          "data": {
            "text/plain": [
              "'vipin'"
            ],
            "application/vnd.google.colaboratory.intrinsic+json": {
              "type": "string"
            }
          },
          "metadata": {},
          "execution_count": 34
        }
      ]
    },
    {
      "cell_type": "code",
      "source": [],
      "metadata": {
        "id": "myYAEpw-0d5a"
      },
      "execution_count": null,
      "outputs": []
    },
    {
      "cell_type": "markdown",
      "source": [
        "2) Deleting the elements"
      ],
      "metadata": {
        "id": "KS03N0XB0fI_"
      }
    },
    {
      "cell_type": "code",
      "source": [
        "del(H[2])"
      ],
      "metadata": {
        "id": "JDPeDRj40jfa"
      },
      "execution_count": 36,
      "outputs": []
    },
    {
      "cell_type": "code",
      "source": [
        "H"
      ],
      "metadata": {
        "colab": {
          "base_uri": "https://localhost:8080/"
        },
        "id": "AcPNLaAe0nzh",
        "outputId": "b1a828b2-423c-4f9c-8a2a-a5636e743857"
      },
      "execution_count": 37,
      "outputs": [
        {
          "output_type": "execute_result",
          "data": {
            "text/plain": [
              "['anuv', 'jain', 'vipin', '10', '110']"
            ]
          },
          "metadata": {},
          "execution_count": 37
        }
      ]
    },
    {
      "cell_type": "code",
      "source": [
        "## so we can see we deleted sanya with the help of this function del\n"
      ],
      "metadata": {
        "id": "RGRQtH2Y0rW6"
      },
      "execution_count": null,
      "outputs": []
    },
    {
      "cell_type": "code",
      "source": [
        "##"
      ],
      "metadata": {
        "id": "BiDaoV9h0y88"
      },
      "execution_count": null,
      "outputs": []
    },
    {
      "cell_type": "code",
      "source": [],
      "metadata": {
        "id": "koMhdiL204h6"
      },
      "execution_count": null,
      "outputs": []
    },
    {
      "cell_type": "markdown",
      "source": [
        "3) to modify"
      ],
      "metadata": {
        "id": "6hTSODic05Gq"
      }
    },
    {
      "cell_type": "code",
      "source": [
        "H[2]"
      ],
      "metadata": {
        "colab": {
          "base_uri": "https://localhost:8080/",
          "height": 35
        },
        "id": "jytwrnKG02UY",
        "outputId": "79b8524e-932e-4951-9593-62ea025cbcd6"
      },
      "execution_count": 39,
      "outputs": [
        {
          "output_type": "execute_result",
          "data": {
            "text/plain": [
              "'vipin'"
            ],
            "application/vnd.google.colaboratory.intrinsic+json": {
              "type": "string"
            }
          },
          "metadata": {},
          "execution_count": 39
        }
      ]
    },
    {
      "cell_type": "code",
      "source": [
        "## now to modify"
      ],
      "metadata": {
        "id": "AC9ySv04099y"
      },
      "execution_count": 40,
      "outputs": []
    },
    {
      "cell_type": "code",
      "source": [
        "H[2]=\"fortuner\""
      ],
      "metadata": {
        "id": "RSjKJ0-O1CnG"
      },
      "execution_count": 41,
      "outputs": []
    },
    {
      "cell_type": "code",
      "source": [
        "H"
      ],
      "metadata": {
        "colab": {
          "base_uri": "https://localhost:8080/"
        },
        "id": "1DbFP1Rt1HdC",
        "outputId": "6f7bde9d-f1a5-4f1a-dc4f-ade2efbe3d29"
      },
      "execution_count": 42,
      "outputs": [
        {
          "output_type": "execute_result",
          "data": {
            "text/plain": [
              "['anuv', 'jain', 'fortuner', '10', '110']"
            ]
          },
          "metadata": {},
          "execution_count": 42
        }
      ]
    },
    {
      "cell_type": "code",
      "source": [
        "## we can see we modified vipin to fortuner"
      ],
      "metadata": {
        "id": "aqHs8aae1Iw8"
      },
      "execution_count": null,
      "outputs": []
    },
    {
      "cell_type": "markdown",
      "source": [
        "##question 4\n",
        "tuples vs lists\n",
        "\n",
        "1) Mutability : the fact that we can change the elements is called mutability.\n"
      ],
      "metadata": {
        "id": "bEi5P2ws47jb"
      }
    },
    {
      "cell_type": "code",
      "source": [
        "## lists are mutable\n",
        "a = ['anmol','father','100','200']\n",
        "a[0]"
      ],
      "metadata": {
        "colab": {
          "base_uri": "https://localhost:8080/",
          "height": 35
        },
        "id": "REU_KscZ-qze",
        "outputId": "e7614381-3e98-4bd7-ec8c-de1f0c51a3db"
      },
      "execution_count": 1,
      "outputs": [
        {
          "output_type": "execute_result",
          "data": {
            "text/plain": [
              "'anmol'"
            ],
            "application/vnd.google.colaboratory.intrinsic+json": {
              "type": "string"
            }
          },
          "metadata": {},
          "execution_count": 1
        }
      ]
    },
    {
      "cell_type": "code",
      "source": [
        "a[0]='sonia'"
      ],
      "metadata": {
        "id": "2fxucIu7-55T"
      },
      "execution_count": 2,
      "outputs": []
    },
    {
      "cell_type": "code",
      "source": [
        "a"
      ],
      "metadata": {
        "colab": {
          "base_uri": "https://localhost:8080/"
        },
        "id": "rhp0EdVb_EXn",
        "outputId": "a1dd5e63-678e-4fd0-ba2d-a603fae94a14"
      },
      "execution_count": 3,
      "outputs": [
        {
          "output_type": "execute_result",
          "data": {
            "text/plain": [
              "['sonia', 'father', '100', '200']"
            ]
          },
          "metadata": {},
          "execution_count": 3
        }
      ]
    },
    {
      "cell_type": "code",
      "source": [
        "## tuples are immutable\n",
        "b=('aman','kashsish','vedansh','tanishka')"
      ],
      "metadata": {
        "id": "PwLVVr9Q_FNL"
      },
      "execution_count": 4,
      "outputs": []
    },
    {
      "cell_type": "code",
      "source": [
        "b"
      ],
      "metadata": {
        "colab": {
          "base_uri": "https://localhost:8080/"
        },
        "id": "mfLHTXY2_W5U",
        "outputId": "a9c2c92a-23c8-442e-c3b0-a96379aa4435"
      },
      "execution_count": 5,
      "outputs": [
        {
          "output_type": "execute_result",
          "data": {
            "text/plain": [
              "('aman', 'kashsish', 'vedansh', 'tanishka')"
            ]
          },
          "metadata": {},
          "execution_count": 5
        }
      ]
    },
    {
      "cell_type": "code",
      "source": [
        "b[0]"
      ],
      "metadata": {
        "colab": {
          "base_uri": "https://localhost:8080/",
          "height": 35
        },
        "id": "o3faXlcf_YKs",
        "outputId": "eb4aa6f9-f50f-4ddc-f063-261392f52311"
      },
      "execution_count": 7,
      "outputs": [
        {
          "output_type": "execute_result",
          "data": {
            "text/plain": [
              "'aman'"
            ],
            "application/vnd.google.colaboratory.intrinsic+json": {
              "type": "string"
            }
          },
          "metadata": {},
          "execution_count": 7
        }
      ]
    },
    {
      "cell_type": "code",
      "source": [
        "b[0]= 'dinesh'"
      ],
      "metadata": {
        "colab": {
          "base_uri": "https://localhost:8080/",
          "height": 144
        },
        "id": "7bxaDMLv_a1t",
        "outputId": "b074b9d7-37ef-47a3-b26a-d43a88bd6c52"
      },
      "execution_count": 8,
      "outputs": [
        {
          "output_type": "error",
          "ename": "TypeError",
          "evalue": "'tuple' object does not support item assignment",
          "traceback": [
            "\u001b[0;31m---------------------------------------------------------------------------\u001b[0m",
            "\u001b[0;31mTypeError\u001b[0m                                 Traceback (most recent call last)",
            "\u001b[0;32m<ipython-input-8-ad739f73d0f7>\u001b[0m in \u001b[0;36m<cell line: 1>\u001b[0;34m()\u001b[0m\n\u001b[0;32m----> 1\u001b[0;31m \u001b[0mb\u001b[0m\u001b[0;34m[\u001b[0m\u001b[0;36m0\u001b[0m\u001b[0;34m]\u001b[0m\u001b[0;34m=\u001b[0m \u001b[0;34m'dinesh'\u001b[0m\u001b[0;34m\u001b[0m\u001b[0;34m\u001b[0m\u001b[0m\n\u001b[0m",
            "\u001b[0;31mTypeError\u001b[0m: 'tuple' object does not support item assignment"
          ]
        }
      ]
    },
    {
      "cell_type": "code",
      "source": [
        "## as we can see above tuples are immutable"
      ],
      "metadata": {
        "id": "nWYX5_MP_hSb"
      },
      "execution_count": null,
      "outputs": []
    },
    {
      "cell_type": "markdown",
      "source": [
        "## 2) syntax used\n",
        "list : square brackets []\n",
        "\n",
        "\n",
        "\n",
        "tuple : brackets ()\n"
      ],
      "metadata": {
        "id": "M8hu7AFR_l4t"
      }
    },
    {
      "cell_type": "code",
      "source": [
        "## list\n",
        "c = ['anmol','father','100','200']\n",
        "## tuple\n",
        "d = ('aman','kashsish','vedansh','tanishka')\n"
      ],
      "metadata": {
        "id": "cbEn5ICVA_Jp"
      },
      "execution_count": null,
      "outputs": []
    },
    {
      "cell_type": "markdown",
      "source": [
        "## 3)uses\n",
        "list : used in cases where we need to store data but at times we can also need to edit them or modify them.\n",
        "\n",
        "\n",
        "tuples : used in cases where we need to store the data but need not any modification of data in near future."
      ],
      "metadata": {
        "id": "tbkPuxvaACUP"
      }
    },
    {
      "cell_type": "markdown",
      "source": [
        "##4) Data types\n",
        "list : it can contain hetrogeneous data and data of diferent structures\n",
        "\n",
        "tuples : it can also contain hetrogeneous data\n"
      ],
      "metadata": {
        "id": "MCV6L-puAcmP"
      }
    },
    {
      "cell_type": "markdown",
      "source": [
        "### question 5\n",
        "Features of sets\n",
        "\n",
        "1)unique collection of elements:  which means it does not repeat any elemnt"
      ],
      "metadata": {
        "id": "B-B_7N3K_-ZT"
      }
    },
    {
      "cell_type": "code",
      "source": [
        "c={'vishal','muskan','2','3','2','vishal'}"
      ],
      "metadata": {
        "id": "UaZy2zo6bUxO"
      },
      "execution_count": 9,
      "outputs": []
    },
    {
      "cell_type": "code",
      "source": [
        "c"
      ],
      "metadata": {
        "colab": {
          "base_uri": "https://localhost:8080/"
        },
        "id": "a0RZcP4Qbk4m",
        "outputId": "8bde5d2b-c215-41b4-9277-4960e8b9fe7b"
      },
      "execution_count": 10,
      "outputs": [
        {
          "output_type": "execute_result",
          "data": {
            "text/plain": [
              "{'2', '3', 'muskan', 'vishal'}"
            ]
          },
          "metadata": {},
          "execution_count": 10
        }
      ]
    },
    {
      "cell_type": "code",
      "source": [],
      "metadata": {
        "id": "0AMGnly1blPm"
      },
      "execution_count": null,
      "outputs": []
    },
    {
      "cell_type": "code",
      "source": [],
      "metadata": {
        "id": "nkPxl0N3cqaI"
      },
      "execution_count": null,
      "outputs": []
    },
    {
      "cell_type": "markdown",
      "source": [
        "2) Indexing is not possible"
      ],
      "metadata": {
        "id": "KLsrpLrqcqqX"
      }
    },
    {
      "cell_type": "code",
      "source": [
        "c[0]"
      ],
      "metadata": {
        "colab": {
          "base_uri": "https://localhost:8080/",
          "height": 144
        },
        "id": "7w1pVaU5cv-p",
        "outputId": "0af4d9ea-ec54-43da-b883-474c429d0e3a"
      },
      "execution_count": 11,
      "outputs": [
        {
          "output_type": "error",
          "ename": "TypeError",
          "evalue": "'set' object is not subscriptable",
          "traceback": [
            "\u001b[0;31m---------------------------------------------------------------------------\u001b[0m",
            "\u001b[0;31mTypeError\u001b[0m                                 Traceback (most recent call last)",
            "\u001b[0;32m<ipython-input-11-71463270cd6c>\u001b[0m in \u001b[0;36m<cell line: 1>\u001b[0;34m()\u001b[0m\n\u001b[0;32m----> 1\u001b[0;31m \u001b[0mc\u001b[0m\u001b[0;34m[\u001b[0m\u001b[0;36m0\u001b[0m\u001b[0;34m]\u001b[0m\u001b[0;34m\u001b[0m\u001b[0;34m\u001b[0m\u001b[0m\n\u001b[0m",
            "\u001b[0;31mTypeError\u001b[0m: 'set' object is not subscriptable"
          ]
        }
      ]
    },
    {
      "cell_type": "code",
      "source": [
        "## proved above with example\n"
      ],
      "metadata": {
        "id": "iQvGV0x8cx6T"
      },
      "execution_count": null,
      "outputs": []
    },
    {
      "cell_type": "code",
      "source": [
        "## 3) unhashable type"
      ],
      "metadata": {
        "id": "FuNi1T1Gc3fu"
      },
      "execution_count": null,
      "outputs": []
    },
    {
      "cell_type": "markdown",
      "source": [
        "4) slicing not possible\n"
      ],
      "metadata": {
        "id": "KIassmzEdLa8"
      }
    },
    {
      "cell_type": "code",
      "source": [
        "c[0:2]"
      ],
      "metadata": {
        "colab": {
          "base_uri": "https://localhost:8080/",
          "height": 144
        },
        "id": "qIWy8djIdf7J",
        "outputId": "bd0e212a-e47d-432e-9714-08c5bbbe3542"
      },
      "execution_count": 12,
      "outputs": [
        {
          "output_type": "error",
          "ename": "TypeError",
          "evalue": "'set' object is not subscriptable",
          "traceback": [
            "\u001b[0;31m---------------------------------------------------------------------------\u001b[0m",
            "\u001b[0;31mTypeError\u001b[0m                                 Traceback (most recent call last)",
            "\u001b[0;32m<ipython-input-12-29138d90ae54>\u001b[0m in \u001b[0;36m<cell line: 1>\u001b[0;34m()\u001b[0m\n\u001b[0;32m----> 1\u001b[0;31m \u001b[0mc\u001b[0m\u001b[0;34m[\u001b[0m\u001b[0;36m0\u001b[0m\u001b[0;34m:\u001b[0m\u001b[0;36m2\u001b[0m\u001b[0;34m]\u001b[0m\u001b[0;34m\u001b[0m\u001b[0;34m\u001b[0m\u001b[0m\n\u001b[0m",
            "\u001b[0;31mTypeError\u001b[0m: 'set' object is not subscriptable"
          ]
        }
      ]
    },
    {
      "cell_type": "code",
      "source": [],
      "metadata": {
        "id": "IPx7IYODdjF2"
      },
      "execution_count": null,
      "outputs": []
    },
    {
      "cell_type": "markdown",
      "source": [
        "# 5) pop feature : randomly resmoves the element\n"
      ],
      "metadata": {
        "id": "qWZ2z4-ud67h"
      }
    },
    {
      "cell_type": "code",
      "source": [
        " c.pop()"
      ],
      "metadata": {
        "colab": {
          "base_uri": "https://localhost:8080/",
          "height": 35
        },
        "id": "VRYFH2NleCoJ",
        "outputId": "19fee472-8b36-47f4-8680-2ff49a5edcab"
      },
      "execution_count": 14,
      "outputs": [
        {
          "output_type": "execute_result",
          "data": {
            "text/plain": [
              "'2'"
            ],
            "application/vnd.google.colaboratory.intrinsic+json": {
              "type": "string"
            }
          },
          "metadata": {},
          "execution_count": 14
        }
      ]
    },
    {
      "cell_type": "code",
      "source": [
        " ## 6) update adds the element\n",
        " c.update(['sanya'])"
      ],
      "metadata": {
        "id": "wOJW5kfFeI3t"
      },
      "execution_count": 15,
      "outputs": []
    },
    {
      "cell_type": "code",
      "source": [
        "c"
      ],
      "metadata": {
        "colab": {
          "base_uri": "https://localhost:8080/"
        },
        "id": "gcr60iRHecX3",
        "outputId": "36bd8de2-0a65-4b51-e155-e717fc19a64e"
      },
      "execution_count": 16,
      "outputs": [
        {
          "output_type": "execute_result",
          "data": {
            "text/plain": [
              "{'3', 'muskan', 'sanya', 'vishal'}"
            ]
          },
          "metadata": {},
          "execution_count": 16
        }
      ]
    },
    {
      "cell_type": "code",
      "source": [],
      "metadata": {
        "id": "NO9oCqD3ec9M"
      },
      "execution_count": null,
      "outputs": []
    },
    {
      "cell_type": "markdown",
      "source": [],
      "metadata": {
        "id": "6POehgRCexQz"
      }
    },
    {
      "cell_type": "markdown",
      "source": [
        "## 7) union, intersection, difference"
      ],
      "metadata": {
        "id": "i0UHpeMdexTX"
      }
    },
    {
      "cell_type": "code",
      "source": [
        "s1={1,2,3,4,5,6}\n",
        "s2={5,6,7,8,9,10}\n"
      ],
      "metadata": {
        "id": "87sxJiIPe3xT"
      },
      "execution_count": 17,
      "outputs": []
    },
    {
      "cell_type": "code",
      "source": [
        "s1|s2"
      ],
      "metadata": {
        "colab": {
          "base_uri": "https://localhost:8080/"
        },
        "id": "mPfyENivfFL2",
        "outputId": "7e1730a6-3cc9-4c11-9760-ad375c519c2e"
      },
      "execution_count": 18,
      "outputs": [
        {
          "output_type": "execute_result",
          "data": {
            "text/plain": [
              "{1, 2, 3, 4, 5, 6, 7, 8, 9, 10}"
            ]
          },
          "metadata": {},
          "execution_count": 18
        }
      ]
    },
    {
      "cell_type": "code",
      "source": [
        "s1&s2"
      ],
      "metadata": {
        "colab": {
          "base_uri": "https://localhost:8080/"
        },
        "id": "oYuniKuhfHlL",
        "outputId": "3d7af609-95e5-4a95-f5ac-764e985ae49f"
      },
      "execution_count": 19,
      "outputs": [
        {
          "output_type": "execute_result",
          "data": {
            "text/plain": [
              "{5, 6}"
            ]
          },
          "metadata": {},
          "execution_count": 19
        }
      ]
    },
    {
      "cell_type": "code",
      "source": [
        "s1-s2"
      ],
      "metadata": {
        "colab": {
          "base_uri": "https://localhost:8080/"
        },
        "id": "9ryr42FVfKd-",
        "outputId": "2bc41bf4-3e56-46ad-a067-5e52edde500d"
      },
      "execution_count": 21,
      "outputs": [
        {
          "output_type": "execute_result",
          "data": {
            "text/plain": [
              "{1, 2, 3, 4}"
            ]
          },
          "metadata": {},
          "execution_count": 21
        }
      ]
    },
    {
      "cell_type": "code",
      "source": [],
      "metadata": {
        "id": "R94JgjOpfNGp"
      },
      "execution_count": 21,
      "outputs": []
    },
    {
      "cell_type": "markdown",
      "source": [
        "##Question 6)\n",
        " uses of tuples and sets in python\n",
        "\n",
        "When to Use Tuples:\n",
        "When you need an ordered collection that should not change, such as constants or fixed data.\n",
        "When you want to return multiple values from a function in an immutable format.\n",
        "When you need to use a collection of items as dictionary keys.\n",
        "\n",
        "\n",
        "When to Use Sets:\n",
        "When you need a collection of unique items.\n",
        "When performing mathematical set operations like union, intersection, and difference.\n",
        "When you need fast membership testing or to filter out duplicates from a list."
      ],
      "metadata": {
        "id": "7-r8-6n3fTzs"
      }
    },
    {
      "cell_type": "code",
      "source": [],
      "metadata": {
        "id": "HPj3sIWbg51R"
      },
      "execution_count": null,
      "outputs": []
    },
    {
      "cell_type": "markdown",
      "source": [
        "Question 7)\n",
        "Add\n"
      ],
      "metadata": {
        "id": "P-s48eKeg7Ak"
      }
    },
    {
      "cell_type": "code",
      "source": [
        "x={'anmol':'sanya','vishal':'muskan','aman':'vedansh'}"
      ],
      "metadata": {
        "id": "MnG9-Mcwha9-"
      },
      "execution_count": 22,
      "outputs": []
    },
    {
      "cell_type": "code",
      "source": [
        "x"
      ],
      "metadata": {
        "colab": {
          "base_uri": "https://localhost:8080/"
        },
        "id": "awWvpvoChuaQ",
        "outputId": "63f2d0b9-7cf6-4849-f975-9cf3976bc53b"
      },
      "execution_count": 23,
      "outputs": [
        {
          "output_type": "execute_result",
          "data": {
            "text/plain": [
              "{'anmol': 'sanya', 'vishal': 'muskan', 'aman': 'vedansh'}"
            ]
          },
          "metadata": {},
          "execution_count": 23
        }
      ]
    },
    {
      "cell_type": "code",
      "source": [
        "x['pepsi']='coke'"
      ],
      "metadata": {
        "id": "0dFmPWIshvBx"
      },
      "execution_count": 24,
      "outputs": []
    },
    {
      "cell_type": "code",
      "source": [
        "x"
      ],
      "metadata": {
        "colab": {
          "base_uri": "https://localhost:8080/"
        },
        "id": "p7bKyNz5h7jM",
        "outputId": "328a138e-79bc-4fb6-9b5a-28a50dc400d4"
      },
      "execution_count": 25,
      "outputs": [
        {
          "output_type": "execute_result",
          "data": {
            "text/plain": [
              "{'anmol': 'sanya', 'vishal': 'muskan', 'aman': 'vedansh', 'pepsi': 'coke'}"
            ]
          },
          "metadata": {},
          "execution_count": 25
        }
      ]
    },
    {
      "cell_type": "code",
      "source": [
        "## to delete\n",
        "del x['vishal']"
      ],
      "metadata": {
        "id": "e8laX-hQh8bz"
      },
      "execution_count": 26,
      "outputs": []
    },
    {
      "cell_type": "code",
      "source": [
        "x"
      ],
      "metadata": {
        "colab": {
          "base_uri": "https://localhost:8080/"
        },
        "id": "QnU3NLh2iFyH",
        "outputId": "5a2f06b4-3d6c-446e-b943-334de50b4be8"
      },
      "execution_count": 27,
      "outputs": [
        {
          "output_type": "execute_result",
          "data": {
            "text/plain": [
              "{'anmol': 'sanya', 'aman': 'vedansh', 'pepsi': 'coke'}"
            ]
          },
          "metadata": {},
          "execution_count": 27
        }
      ]
    },
    {
      "cell_type": "code",
      "source": [
        "## to modify\n",
        "x['aman']='tanishka'"
      ],
      "metadata": {
        "id": "Zx1Y7J_viGdq"
      },
      "execution_count": 28,
      "outputs": []
    },
    {
      "cell_type": "code",
      "source": [
        "x"
      ],
      "metadata": {
        "colab": {
          "base_uri": "https://localhost:8080/"
        },
        "id": "bZFUktCjiTj6",
        "outputId": "dca601ae-ef18-48dc-dbbb-24bf705fd8f3"
      },
      "execution_count": 29,
      "outputs": [
        {
          "output_type": "execute_result",
          "data": {
            "text/plain": [
              "{'anmol': 'sanya', 'aman': 'tanishka', 'pepsi': 'coke'}"
            ]
          },
          "metadata": {},
          "execution_count": 29
        }
      ]
    },
    {
      "cell_type": "code",
      "source": [],
      "metadata": {
        "id": "uyk7boiEiUX6"
      },
      "execution_count": null,
      "outputs": []
    },
    {
      "cell_type": "markdown",
      "source": [
        "## question 8"
      ],
      "metadata": {
        "id": "OlFDQCx_iXN5"
      }
    },
    {
      "cell_type": "code",
      "source": [],
      "metadata": {
        "id": "pQgYKbLxiYz6"
      },
      "execution_count": null,
      "outputs": []
    },
    {
      "cell_type": "markdown",
      "source": [
        "1)Efficiency: Immutable keys allow Python to calculate the hash value once and use it to efficienty retrieve data from the dictionary itself .\n",
        "\n",
        "\n",
        "\n",
        "2)Data Integrity: Immutable keys preent accidental modification of keys, which would break the dictionary.\n",
        "\n",
        "\n",
        "\n",
        "3)Hashability: Only immutable objects are hashable, and only hashable objects can be used as dictionry keys."
      ],
      "metadata": {
        "id": "kdC04Z9iiyyq"
      }
    },
    {
      "cell_type": "markdown",
      "source": [],
      "metadata": {
        "id": "bcG_WmZCi9rE"
      }
    }
  ]
}