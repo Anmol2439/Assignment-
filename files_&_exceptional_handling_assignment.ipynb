{
  "nbformat": 4,
  "nbformat_minor": 0,
  "metadata": {
    "colab": {
      "provenance": []
    },
    "kernelspec": {
      "name": "python3",
      "display_name": "Python 3"
    },
    "language_info": {
      "name": "python"
    }
  },
  "cells": [
    {
      "cell_type": "code",
      "execution_count": null,
      "metadata": {
        "id": "43c-qdExztV1"
      },
      "outputs": [],
      "source": []
    },
    {
      "cell_type": "markdown",
      "source": [
        "1.Discuss the scenarios where multithreading is preferable to multiprocessing and scenarios where multiprocessing is a better choice.\n",
        "\n",
        "\n",
        "Multithreading\n",
        "\n",
        "Multithreading is ideal for tasks that are I/O-bound. This means tasks that spend a lot of time waiting for external events, such as:\n",
        "1.Web Servers: Handling multiple client requests simultaneously.\n",
        "2.File I/O Operations: Reading from or writing to files, especially when dealing with large files.\n",
        "3.Network Applications: Managing multiple network connections, such as in chat applications or web scraping.\n",
        "4.User Interface Applications: Keeping the UI responsive while performing background tasks.\n",
        "Advantages:\n",
        "•Lower memory overhead since threads share the same memory space.\n",
        "•Faster context switching compared to processes.\n",
        "•Easier to share data between threads.\n",
        "Disadvantages:\n",
        "•Limited by the Global Interpreter Lock (GIL) in languages like Python, which can prevent true parallelism.\n",
        "•More complex to implement due to potential issues with thread safety and synchronization.\n",
        "Multiprocessing\n",
        "Multiprocessing is better suited for CPU-bound tasks. These are tasks that require a lot of computation and can benefit from parallel execution, such as:\n",
        "1.Data Processing: Performing heavy computations on large datasets, like in data analysis or machine learning.\n",
        "2.Image and Video Processing: Tasks like rendering, filtering, or transforming images and videos.\n",
        "3.Scientific Simulations: Running complex simulations that require significant computational power.\n",
        "4.Parallel Algorithms: Implementing algorithms that can be divided into independent tasks running in parallel.\n",
        "Advantages:\n",
        "•True parallelism since each process runs on a separate CPU core.\n",
        "•Not affected by the GIL in Python, allowing for better performance in CPU-bound tasks.\n",
        "•Each process has its own memory space, reducing the risk of memory corruption.\n",
        "Disadvantages:\n",
        "•Higher memory overhead due to separate memory spaces for each process.\n",
        "•Slower context switching compared to threads.\n",
        "•More complex inter-process communication (IPC) mechanisms required to share data between processes.\n",
        "Summary\n",
        "•Use multithreading for I/O-bound tasks where you need to handle multiple operations concurrently without heavy computation.\n",
        "•Use multiprocessing for CPU-bound tasks where you need to leverage multiple CPU cores for parallel execution.\n",
        "\n",
        "\n"
      ],
      "metadata": {
        "id": "nfBO63Ycz-nL"
      }
    },
    {
      "cell_type": "markdown",
      "source": [
        "2. Describe what a process pool is and how it helps in managing multiple processes efficiently.\n",
        "A process pool is a programming pattern used to manage a collection of worker processes that can execute tasks concurrently. This concept is particularly useful in parallel computing, where tasks can be distributed across multiple processors to improve performance and efficiency.\n",
        "How a Process Pool Works\n",
        "1.Creation of Worker Processes: A process pool creates a fixed number of worker processes. These processes are ready to execute tasks as they are assigned.\n",
        "2.Task Submission: Tasks are submitted to the pool, typically as functions. The pool assigns these tasks to the available worker processes.\n",
        "3.Concurrent Execution: The worker processes execute the tasks concurrently, leveraging multiple CPU cores.\n",
        "4.Result Collection: Once a task is completed, the result is collected and can be retrieved by the main program.\n",
        "5.Resource Management: After all tasks are completed, the pool can be closed, and resources are released.\n",
        "Benefits of Using a Process Pool\n",
        "•Efficient Resource Utilization: By managing a fixed number of processes, a process pool ensures that system resources are used efficiently without the overhead of constantly creating and destroying processes.\n",
        "•Simplified Parallelism: It abstracts the complexity of managing multiple processes, making it easier to implement parallelism in programs.\n",
        "•Improved Performance: By distributing tasks across multiple processors, a process pool can significantly reduce the time required to complete a set of tasks.\n",
        "•Scalability: It allows for scalable solutions where the number of worker processes can be adjusted based on the workload and available resources.\n",
        "In Python, the multiprocessing module provides a Pool class that facilitates the creation and"
      ],
      "metadata": {
        "id": "iHkcW--j0C1_"
      }
    },
    {
      "cell_type": "markdown",
      "source": [
        "3. Explain what multiprocessing is and why it is used in Python programs.\n",
        "\n",
        "\n",
        "Multiprocessing in Python is a module that allows you to create programs that can run multiple processes simultaneously. This is particularly useful for tasks that can be divided into smaller, independent tasks that can be executed concurrently.\n",
        "Why Use Multiprocessing?\n",
        "1.Bypassing the Global Interpreter Lock (GIL):\n",
        "Python’s GIL is a mutex that protects access to Python objects, preventing multiple native threads from executing Python bytecodes at once. This can be a bottleneck in CPU-bound programs. Multiprocessing sidesteps this by using separate memory spaces for each process, allowing full utilization of multiple CPU cores1.\n",
        "2.Improved Performance:\n",
        "By running multiple processes in parallel, you can significantly reduce the time it takes to complete tasks, especially those that are CPU-intensive. This is because each process runs independently and can be executed on different CPU cores2.\n",
        "3.Better Resource Utilization:\n",
        "Multiprocessing allows you to leverage the full power of your machine’s CPU, making it ideal for tasks that require heavy computation, such as data processing, scientific calculations, and machine learning3.\n",
        "How It Works\n",
        "•Process Creation:\n",
        "You create a Process object and then call its start() method to begin execution. Each process runs in its own memory space, which means they do not share data directly. Communication between processes is typically done using pipes or queues1."
      ],
      "metadata": {
        "id": "pwdw80_w0Ky6"
      }
    },
    {
      "cell_type": "markdown",
      "source": [],
      "metadata": {
        "id": "Tm579kU40Tt-"
      }
    },
    {
      "cell_type": "code",
      "source": [
        "#4. Write a Python program using multithreading where one thread adds numbers to a list, and another thread removes numbers from the list. Implement a mechanism to avoid race conditions using threading. Lock.\n",
        "\n",
        "import threading\n",
        "import time\n",
        "\n",
        "# Shared list\n",
        "shared_list = []\n",
        "\n",
        "# Lock object to prevent race conditions\n",
        "list_lock = threading.Lock()\n",
        "\n",
        "def add_numbers():\n",
        "    for i in range(10):\n",
        "        with list_lock:\n",
        "            shared_list.append(i)\n",
        "            print(f\"Added {i}\")\n",
        "        time.sleep(0.1)  # Simulate some processing time\n",
        "\n",
        "def remove_numbers():\n",
        "    for i in range(10):\n",
        "        with list_lock:\n",
        "            if shared_list:\n",
        "                removed = shared_list.pop(0)\n",
        "                print(f\"Removed {removed}\")\n",
        "        time.sleep(0.15)  # Simulate some processing time\n",
        "\n",
        "# Create threads\n",
        "thread1 = threading.Thread(target=add_numbers)\n",
        "thread2 = threading.Thread(target=remove_numbers)\n",
        "\n",
        "# Start threads\n",
        "thread1.start()\n",
        "thread2.start()\n",
        "\n",
        "# Wait for threads to complete\n",
        "thread1.join()\n",
        "thread2.join()\n",
        "\n",
        "print(\"Final list:\", shared_list)\n"
      ],
      "metadata": {
        "colab": {
          "base_uri": "https://localhost:8080/"
        },
        "id": "dj_yt8DV0YF4",
        "outputId": "8a18ba94-83cf-4f95-b58c-ea8e3afbcb58"
      },
      "execution_count": 1,
      "outputs": [
        {
          "output_type": "stream",
          "name": "stdout",
          "text": [
            "Added 0\n",
            "Removed 0\n",
            "Added 1\n",
            "Removed 1\n",
            "Added 2\n",
            "Removed 2\n",
            "Added 3\n",
            "Added 4\n",
            "Removed 3\n",
            "Added 5\n",
            "Removed 4\n",
            "Added 6\n",
            "Added 7\n",
            "Removed 5\n",
            "Added 8\n",
            "Removed 6\n",
            "Added 9\n",
            "Removed 7\n",
            "Removed 8\n",
            "Removed 9\n",
            "Final list: []\n"
          ]
        }
      ]
    },
    {
      "cell_type": "code",
      "source": [],
      "metadata": {
        "id": "YJgY6LzC0Yep"
      },
      "execution_count": null,
      "outputs": []
    },
    {
      "cell_type": "markdown",
      "source": [
        "6.Discuss why it's crucial to handle exceptions in concurrent programs and the techniques available for doing so.\n",
        "Handling exceptions in concurrent programs is crucial for several reasons:\n",
        "1.Stability and Reliability: Unhandled exceptions in concurrent programs can lead to unpredictable behavior, crashes, or deadlocks, making the application unstable and unreliable1.\n",
        "2.Resource Management: Proper exception handling ensures that resources such as memory, file handles, and network connections are released appropriately, preventing resource leaks1.\n",
        "3.Error Propagation: In concurrent environments, exceptions in one thread can affect other threads. Proper handling ensures that exceptions are propagated and managed correctly, maintaining the overall integrity of the application2.\n",
        "Techniques for Handling Exceptions in Concurrent Programs\n",
        "1.Try-Catch Blocks: Wrapping concurrent tasks in try-catch blocks allows for immediate handling of exceptions within the thread. This is a fundamental technique used in many programming languages1.\n",
        "2.Future and Promise: In languages like Java and C++, futures and promises can be used to handle exceptions. When a task completes, the future object can be checked for exceptions, allowing the main thread to handle them appropriately1.\n",
        "3.Thread Pools and Executors: Using thread pools and executor services can help manage exceptions by centralizing exception handling logic. For example, in Java, the ExecutorService can be used to submit tasks and handle exceptions through the Future interface1.\n",
        "4.Centralized Logging: Logging exceptions in a centralized logging framework helps in monitoring and diagnosing issues. This is especially useful in distributed systems where exceptions might occur in different parts of the system1.\n",
        "5.Retry Mechanisms: Implementing retry mechanisms can make applications more resilient. If a task fails due to a transient issue, retrying the task after a delay can often resolve the problem1.\n",
        "6.Exception Propagation: Properly propagating exceptions between threads ensures that they are handled at the appropriate level. This can be achieved using various concurrency primitives and synchronization techniques2.\n",
        "\n"
      ],
      "metadata": {
        "id": "2XzNpmf00oow"
      }
    },
    {
      "cell_type": "markdown",
      "source": [],
      "metadata": {
        "id": "nFKqFUzl0pvQ"
      }
    },
    {
      "cell_type": "code",
      "source": [
        "#7. Create a program that uses a thread pool to calculate the factorial of numbers from 1 to 10 concurrently. Use concurrent.futures.ThreadPoolExecutor to manage the threads.\n",
        "\n",
        "import concurrent.futures\n",
        "import math\n",
        "\n",
        "def factorial(n):\n",
        "    \"\"\"Calculate the factorial of a number.\"\"\"\n",
        "    return math.factorial(n)\n",
        "\n",
        "def main():\n",
        "    # Create a ThreadPoolExecutor with a number of threads\n",
        "    with concurrent.futures.ThreadPoolExecutor() as executor:\n",
        "        # Create a list of numbers from 1 to 10\n",
        "        numbers = range(1, 11)\n",
        "\n",
        "        # Map the factorial function to the numbers concurrently\n",
        "        results = list(executor.map(factorial, numbers))\n",
        "\n",
        "    # Print the results\n",
        "    for number, result in zip(numbers, results):\n",
        "        print(f'The factorial of {number} is {result}')\n",
        "\n",
        "if __name__ == '__main__':\n",
        "    main()"
      ],
      "metadata": {
        "colab": {
          "base_uri": "https://localhost:8080/"
        },
        "id": "1rcy1rFl0p7S",
        "outputId": "9a289361-705e-46e1-95d2-f68805ba4f3b"
      },
      "execution_count": 2,
      "outputs": [
        {
          "output_type": "stream",
          "name": "stdout",
          "text": [
            "The factorial of 1 is 1\n",
            "The factorial of 2 is 2\n",
            "The factorial of 3 is 6\n",
            "The factorial of 4 is 24\n",
            "The factorial of 5 is 120\n",
            "The factorial of 6 is 720\n",
            "The factorial of 7 is 5040\n",
            "The factorial of 8 is 40320\n",
            "The factorial of 9 is 362880\n",
            "The factorial of 10 is 3628800\n"
          ]
        }
      ]
    },
    {
      "cell_type": "code",
      "source": [
        "  #8Create a Python program that uses multiprocessing.Pool to compute the square of numbers from 1 to 10 in parallel. Measure the time taken to perform this computation using a pool of different sizes (e.g., 2, 4, 8 processes).\n",
        "import multiprocessing\n",
        "import time\n",
        "\n",
        "def square(n):\n",
        "    \"\"\"Function to compute the square of a number.\"\"\"\n",
        "    return n * n\n",
        "\n",
        "def compute_squares(pool_size):\n",
        "    \"\"\"Function to compute squares using a pool of workers.\"\"\"\n",
        "    with multiprocessing.Pool(processes=pool_size) as pool:\n",
        "        results = pool.map(square, range(1, 11))\n",
        "    return results\n",
        "\n",
        "def measure_time(pool_size):\n",
        "    \"\"\"Measure the time taken to compute squares with a given pool size.\"\"\"\n",
        "    start_time = time.time()\n",
        "    results = compute_squares(pool_size)\n",
        "    end_time = time.time()\n",
        "    elapsed_time = end_time - start_time\n",
        "    return results, elapsed_time\n",
        "\n",
        "if __name__ == \"__main__\":\n",
        "    pool_sizes = [2, 4, 8]  # Different pool sizes\n",
        "    for size in pool_sizes:\n",
        "        results, elapsed_time = measure_time(size)\n",
        "        print(f\"Pool size: {size}, Results: {results}, Time taken: {elapsed_time:.4f} seconds\")\n"
      ],
      "metadata": {
        "colab": {
          "base_uri": "https://localhost:8080/"
        },
        "id": "PASu59pb0r4l",
        "outputId": "eebcc5a6-abdb-4b0c-c9dd-ad656da1c635"
      },
      "execution_count": 4,
      "outputs": [
        {
          "output_type": "stream",
          "name": "stdout",
          "text": [
            "Pool size: 2, Results: [1, 4, 9, 16, 25, 36, 49, 64, 81, 100], Time taken: 0.0322 seconds\n",
            "Pool size: 4, Results: [1, 4, 9, 16, 25, 36, 49, 64, 81, 100], Time taken: 0.0512 seconds\n",
            "Pool size: 8, Results: [1, 4, 9, 16, 25, 36, 49, 64, 81, 100], Time taken: 0.0882 seconds\n"
          ]
        }
      ]
    },
    {
      "cell_type": "code",
      "source": [],
      "metadata": {
        "id": "pbQ9NURe0xVQ"
      },
      "execution_count": null,
      "outputs": []
    }
  ]
}